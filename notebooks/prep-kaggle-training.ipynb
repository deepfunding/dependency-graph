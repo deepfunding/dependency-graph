{
 "cells": [
  {
   "cell_type": "code",
   "execution_count": 75,
   "id": "0f3797da-7b17-403a-955f-44eb4e723ea6",
   "metadata": {},
   "outputs": [],
   "source": [
    "import json\n",
    "import pandas as pd\n",
    "import numpy as np\n",
    "import itertools"
   ]
  },
  {
   "cell_type": "code",
   "execution_count": 64,
   "id": "7941e68a-ae5c-4f2b-9eab-310ced353922",
   "metadata": {},
   "outputs": [],
   "source": [
    "DUPE_CSV_PATH = '../graph/pairwise-sim.csv'\n",
    "DEDUPE_CSV_PATH = '../graph/training-data.csv'\n",
    "\n",
    "df = pd.read_csv(DUPE_CSV_PATH)\n"
   ]
  },
  {
   "cell_type": "code",
   "execution_count": 71,
   "id": "6db75a11-8f27-423e-86e1-0b9bb6419067",
   "metadata": {},
   "outputs": [],
   "source": [
    "averager = {}\n",
    "\n",
    "def add_pair(a, b, weight):\n",
    "    if a not in averager:\n",
    "        averager[a] = {}\n",
    "    if b not in averager[a]:\n",
    "        averager[a][b] = []\n",
    "    averager[a][b].append(weight)\n",
    "\n",
    "for index, row in df.iterrows():\n",
    "    a_or_b = row[\"project_a\"] > row[\"project_b\"]\n",
    "    if a_or_b:\n",
    "        add_pair(row[\"project_a\"], row[\"project_b\"], row[\"weight_a\"])\n",
    "    else:\n",
    "        add_pair(row[\"project_b\"], row[\"project_a\"], row[\"weight_b\"])\n"
   ]
  },
  {
   "cell_type": "code",
   "execution_count": 81,
   "id": "47e5e3e8-c6da-4b78-a9db-88668408e45c",
   "metadata": {},
   "outputs": [],
   "source": [
    "deduped = []\n",
    "\n",
    "for _, (a, inner) in enumerate(averager.items()):\n",
    "    for _, (b, weights) in enumerate(inner.items()):\n",
    "        weight_a = float(np.average(weights))\n",
    "        weight_b = 1-weight_a\n",
    "        deduped.append([a, b, weight_a, weight_b])\n",
    "\n",
    "deduped_df = pd.DataFrame(deduped, columns=[\"project_a\", \"project_b\", \"weight_a\", \"weight_b\"])"
   ]
  },
  {
   "cell_type": "code",
   "execution_count": 82,
   "id": "db0a13cc-a79b-4d33-af1a-8d38d4ad7737",
   "metadata": {},
   "outputs": [],
   "source": [
    "deduped_df.to_csv(DEDUPE_CSV_PATH)"
   ]
  }
 ],
 "metadata": {
  "kernelspec": {
   "display_name": "Python 3 (ipykernel)",
   "language": "python",
   "name": "python3"
  },
  "language_info": {
   "codemirror_mode": {
    "name": "ipython",
    "version": 3
   },
   "file_extension": ".py",
   "mimetype": "text/x-python",
   "name": "python",
   "nbconvert_exporter": "python",
   "pygments_lexer": "ipython3",
   "version": "3.12.8"
  }
 },
 "nbformat": 4,
 "nbformat_minor": 5
}
