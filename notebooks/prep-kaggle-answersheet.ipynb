{
 "cells": [
  {
   "cell_type": "code",
   "execution_count": 21,
   "id": "0f3797da-7b17-403a-955f-44eb4e723ea6",
   "metadata": {},
   "outputs": [],
   "source": [
    "import json\n",
    "import pandas as pd\n",
    "import itertools"
   ]
  },
  {
   "cell_type": "code",
   "execution_count": 16,
   "id": "7941e68a-ae5c-4f2b-9eab-310ced353922",
   "metadata": {},
   "outputs": [],
   "source": [
    "LOCAL_JSON_PATH = '../graph/unweighted_graph.json'\n",
    "NODES_CSV_PATH = '../graph/nodes.csv'\n",
    "NODES_COMBOS_CSV_PATH = '../graph/node_combinations.csv'\n",
    "\n",
    "with open(LOCAL_JSON_PATH, 'r') as f:\n",
    "    graph = json.load(f)\n",
    "G = nx.node_link_graph(graph_data)\n"
   ]
  },
  {
   "cell_type": "code",
   "execution_count": 48,
   "id": "6db75a11-8f27-423e-86e1-0b9bb6419067",
   "metadata": {},
   "outputs": [],
   "source": [
    "nodes = pd.DataFrame({ 'id': [*G.nodes]})\n",
    "combinations = pd.DataFrame([list(x) for x in itertools.combinations(nodes.id, 2)], columns=['a', 'b'])"
   ]
  },
  {
   "cell_type": "code",
   "execution_count": 51,
   "id": "47e5e3e8-c6da-4b78-a9db-88668408e45c",
   "metadata": {},
   "outputs": [],
   "source": [
    "nodes.to_csv(NODES_CSV_PATH)\n",
    "combinations.to_csv(NODES_COMBOS_CSV_PATH)"
   ]
  },
  {
   "cell_type": "code",
   "execution_count": null,
   "id": "db0a13cc-a79b-4d33-af1a-8d38d4ad7737",
   "metadata": {},
   "outputs": [],
   "source": []
  }
 ],
 "metadata": {
  "kernelspec": {
   "display_name": "Python 3 (ipykernel)",
   "language": "python",
   "name": "python3"
  },
  "language_info": {
   "codemirror_mode": {
    "name": "ipython",
    "version": 3
   },
   "file_extension": ".py",
   "mimetype": "text/x-python",
   "name": "python",
   "nbconvert_exporter": "python",
   "pygments_lexer": "ipython3",
   "version": "3.12.8"
  }
 },
 "nbformat": 4,
 "nbformat_minor": 5
}
