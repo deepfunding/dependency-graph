{
 "cells": [
  {
   "cell_type": "code",
   "execution_count": 1,
   "id": "81efdd86-cef4-4515-9188-247bd219552b",
   "metadata": {},
   "outputs": [],
   "source": [
    "import json\n",
    "import networkx as nx\n",
    "import os\n",
    "import pandas as pd"
   ]
  },
  {
   "cell_type": "markdown",
   "id": "b17c6b51",
   "metadata": {},
   "source": [
    "# Settings"
   ]
  },
  {
   "cell_type": "code",
   "execution_count": 2,
   "id": "7a2e8fc3",
   "metadata": {},
   "outputs": [],
   "source": [
    "REFRESH_DATA = False\n",
    "LOCAL_CSV_PATH = '../graph/unweighted_graph.csv'\n",
    "LOCAL_JSON_PATH = '../graph/unweighted_graph.json'"
   ]
  },
  {
   "cell_type": "code",
   "execution_count": 3,
   "id": "6707dd57",
   "metadata": {},
   "outputs": [],
   "source": [
    "CONSENSUS = [\n",
    "    'prysmaticlabs/prysm',\n",
    "    'sigp/lighthouse',\n",
    "    'consensys/teku',\n",
    "    'status-im/nimbus-eth2',\n",
    "    'chainsafe/lodestar',\n",
    "    'grandinetech/grandine'\n",
    "]\n",
    "EXECUTION = [\n",
    "    'ethereum/go-ethereum',\n",
    "    'nethermindeth/nethermind',\n",
    "    'hyperledger/besu',\n",
    "    'erigontech/erigon',\n",
    "    'paradigmxyz/reth'\n",
    "]\n",
    "OTHER = [\n",
    "    'ethereum/py-evm',\n",
    "    'eth-infinitism/account-abstraction',\n",
    "    'safe-global/safe-smart-account',\n",
    "    'a16z/helios',\n",
    "    'ethereumjs/ethereumjs-monorepo'    \n",
    "]\n",
    "DEV_GUILD = [\n",
    "    'ethereum/web3.py',\n",
    "    'web3/web3.js', \n",
    "    'ethers-io/ethers.js', # new\n",
    "    'hyperledger-web3j/web3j', # new\n",
    "    'alloy-rs/alloy', # new\n",
    "    'nethereum/nethereum', # new\n",
    "    'wevm/viem', # new\n",
    "    \n",
    "    'nomicfoundation/hardhat', # new\n",
    "    'foundry-rs/foundry', # new\n",
    "    'ethereum/remix-project',\n",
    "    'apeworx/ape', # new\n",
    "    'vyperlang/titanoboa', # new\n",
    "    'ethereum-lists/chainlist', # new\n",
    "    \n",
    "    'ethereum/solidity', # includes yul\n",
    "    'vyperlang/vyper',\n",
    "    'ethereum/fe', # new\n",
    "    \n",
    "    'ethereum/sourcify', # new\n",
    "    \n",
    "    'openzeppelin/openzeppelin-contracts', # new\n",
    "    'scaffold-eth/scaffold-eth', # new\n",
    "    'scaffold-eth/scaffold-eth-2' # new\n",
    "]\n",
    "SEED_REPOS = CONSENSUS + EXECUTION + OTHER + DEV_GUILD\n",
    "PACKAGE_SERVERS = ['NPM', 'RUST', 'GO', 'PIP']"
   ]
  },
  {
   "cell_type": "markdown",
   "id": "1cabde46",
   "metadata": {},
   "source": [
    "# Get SBOMs for repos we care about\n",
    "\n",
    "- Subscribe to the OSO Production dataset on BigQuery (see docs [here](https://docs.opensource.observer/docs/get-started/bigquery))\n",
    "- Enter the following query into your [console](https://console.cloud.google.com/bigquery) to get a fresh copy of the graph\n",
    "- Save it as a CSV file to `../graph/unweighted_graph.csv`"
   ]
  },
  {
   "cell_type": "code",
   "execution_count": 4,
   "id": "34076d84-9bda-406f-abed-f7ed07608027",
   "metadata": {},
   "outputs": [
    {
     "name": "stdout",
     "output_type": "stream",
     "text": [
      "Query saved to local CSV file.\n"
     ]
    }
   ],
   "source": [
    "def stringify_array(arr):\n",
    "    return \"'\" + \"','\".join(arr) + \"'\"\n",
    "\n",
    "query = f\"\"\"\n",
    "  -- COPY THIS INTO YOUR BIGQUERY CONSOLE\n",
    "  \n",
    "  select distinct\n",
    "    sboms.from_artifact_namespace as seed_repo_owner,\n",
    "    sboms.from_artifact_name as seed_repo_name,\n",
    "    sboms.to_package_artifact_name as package_name,\n",
    "    package_owners.package_owner_artifact_namespace as package_repo_owner,\n",
    "    package_owners.package_owner_artifact_name as package_repo_name,\n",
    "    sboms.to_package_artifact_source as package_source\n",
    "  from `oso_production.sboms_v0` sboms\n",
    "  join `oso_production.package_owners_v0` package_owners\n",
    "    on\n",
    "      sboms.to_package_artifact_name = package_owners.package_artifact_name\n",
    "      and sboms.to_package_artifact_source = package_owners.package_artifact_source\n",
    "  where\n",
    "    sboms.to_package_artifact_source in ({stringify_array(PACKAGE_SERVERS)})\n",
    "    and package_owners.package_owner_artifact_namespace is not null\n",
    "    and concat(sboms.from_artifact_namespace, '/', sboms.from_artifact_name)\n",
    "      in ({stringify_array(SEED_REPOS)})\n",
    "\"\"\"\n",
    "\n",
    "if REFRESH_DATA:\n",
    "\n",
    "    from google.cloud import bigquery\n",
    "\n",
    "    # replace with your path to credentials\n",
    "    os.environ['GOOGLE_APPLICATION_CREDENTIALS'] = '../oso_gcp_credentials.json'\n",
    "\n",
    "    # replace with your project name\n",
    "    client = bigquery.Client(project='opensource-observer')\n",
    "    \n",
    "    # execute the query and save it\n",
    "    results = client.query(query)\n",
    "    df = results.to_dataframe()\n",
    "    df.to_csv(LOCAL_CSV_PATH)\n",
    "    print(\"Query saved to local CSV file.\")\n",
    "\n",
    "else:    \n",
    "    print(query)"
   ]
  },
  {
   "cell_type": "markdown",
   "id": "2e75f732",
   "metadata": {},
   "source": [
    "# Load the graph as a CSV"
   ]
  },
  {
   "cell_type": "code",
   "execution_count": 5,
   "id": "25a9716a",
   "metadata": {},
   "outputs": [
    {
     "data": {
      "text/html": [
       "<div>\n",
       "<style scoped>\n",
       "    .dataframe tbody tr th:only-of-type {\n",
       "        vertical-align: middle;\n",
       "    }\n",
       "\n",
       "    .dataframe tbody tr th {\n",
       "        vertical-align: top;\n",
       "    }\n",
       "\n",
       "    .dataframe thead th {\n",
       "        text-align: right;\n",
       "    }\n",
       "</style>\n",
       "<table border=\"1\" class=\"dataframe\">\n",
       "  <thead>\n",
       "    <tr style=\"text-align: right;\">\n",
       "      <th></th>\n",
       "      <th>Unnamed: 0</th>\n",
       "      <th>seed_repo_owner</th>\n",
       "      <th>seed_repo_name</th>\n",
       "      <th>package_name</th>\n",
       "      <th>package_repo_owner</th>\n",
       "      <th>package_repo_name</th>\n",
       "      <th>package_source</th>\n",
       "      <th>seed_repo_url</th>\n",
       "      <th>package_repo_url</th>\n",
       "    </tr>\n",
       "  </thead>\n",
       "  <tbody>\n",
       "    <tr>\n",
       "      <th>23721</th>\n",
       "      <td>23721</td>\n",
       "      <td>nomicfoundation</td>\n",
       "      <td>hardhat</td>\n",
       "      <td>es5-ext</td>\n",
       "      <td>medikoo</td>\n",
       "      <td>es5-ext</td>\n",
       "      <td>NPM</td>\n",
       "      <td>https://github.com/nomicfoundation/hardhat</td>\n",
       "      <td>https://github.com/medikoo/es5-ext</td>\n",
       "    </tr>\n",
       "    <tr>\n",
       "      <th>23722</th>\n",
       "      <td>23722</td>\n",
       "      <td>nomicfoundation</td>\n",
       "      <td>hardhat</td>\n",
       "      <td>arg</td>\n",
       "      <td>vercel</td>\n",
       "      <td>arg</td>\n",
       "      <td>NPM</td>\n",
       "      <td>https://github.com/nomicfoundation/hardhat</td>\n",
       "      <td>https://github.com/vercel/arg</td>\n",
       "    </tr>\n",
       "    <tr>\n",
       "      <th>23723</th>\n",
       "      <td>23723</td>\n",
       "      <td>nomicfoundation</td>\n",
       "      <td>hardhat</td>\n",
       "      <td>postcss-minify-gradients</td>\n",
       "      <td>cssnano</td>\n",
       "      <td>cssnano</td>\n",
       "      <td>NPM</td>\n",
       "      <td>https://github.com/nomicfoundation/hardhat</td>\n",
       "      <td>https://github.com/cssnano/cssnano</td>\n",
       "    </tr>\n",
       "    <tr>\n",
       "      <th>23724</th>\n",
       "      <td>23724</td>\n",
       "      <td>nomicfoundation</td>\n",
       "      <td>hardhat</td>\n",
       "      <td>arr-flatten</td>\n",
       "      <td>jonschlinkert</td>\n",
       "      <td>arr-flatten</td>\n",
       "      <td>NPM</td>\n",
       "      <td>https://github.com/nomicfoundation/hardhat</td>\n",
       "      <td>https://github.com/jonschlinkert/arr-flatten</td>\n",
       "    </tr>\n",
       "    <tr>\n",
       "      <th>23725</th>\n",
       "      <td>23725</td>\n",
       "      <td>nomicfoundation</td>\n",
       "      <td>hardhat</td>\n",
       "      <td>@typescript-eslint/utils</td>\n",
       "      <td>typescript-eslint</td>\n",
       "      <td>typescript-eslint</td>\n",
       "      <td>NPM</td>\n",
       "      <td>https://github.com/nomicfoundation/hardhat</td>\n",
       "      <td>https://github.com/typescript-eslint/typescrip...</td>\n",
       "    </tr>\n",
       "  </tbody>\n",
       "</table>\n",
       "</div>"
      ],
      "text/plain": [
       "       Unnamed: 0  seed_repo_owner seed_repo_name              package_name  \\\n",
       "23721       23721  nomicfoundation        hardhat                   es5-ext   \n",
       "23722       23722  nomicfoundation        hardhat                       arg   \n",
       "23723       23723  nomicfoundation        hardhat  postcss-minify-gradients   \n",
       "23724       23724  nomicfoundation        hardhat               arr-flatten   \n",
       "23725       23725  nomicfoundation        hardhat  @typescript-eslint/utils   \n",
       "\n",
       "      package_repo_owner  package_repo_name package_source  \\\n",
       "23721            medikoo            es5-ext            NPM   \n",
       "23722             vercel                arg            NPM   \n",
       "23723            cssnano            cssnano            NPM   \n",
       "23724      jonschlinkert        arr-flatten            NPM   \n",
       "23725  typescript-eslint  typescript-eslint            NPM   \n",
       "\n",
       "                                    seed_repo_url  \\\n",
       "23721  https://github.com/nomicfoundation/hardhat   \n",
       "23722  https://github.com/nomicfoundation/hardhat   \n",
       "23723  https://github.com/nomicfoundation/hardhat   \n",
       "23724  https://github.com/nomicfoundation/hardhat   \n",
       "23725  https://github.com/nomicfoundation/hardhat   \n",
       "\n",
       "                                        package_repo_url  \n",
       "23721                 https://github.com/medikoo/es5-ext  \n",
       "23722                      https://github.com/vercel/arg  \n",
       "23723                 https://github.com/cssnano/cssnano  \n",
       "23724       https://github.com/jonschlinkert/arr-flatten  \n",
       "23725  https://github.com/typescript-eslint/typescrip...  "
      ]
     },
     "execution_count": 5,
     "metadata": {},
     "output_type": "execute_result"
    }
   ],
   "source": [
    "df = pd.read_csv(LOCAL_CSV_PATH)\n",
    "\n",
    "gh = 'https://github.com/'\n",
    "df['seed_repo_url'] = df.apply(lambda x: f\"{gh}{x['seed_repo_owner']}/{x['seed_repo_name']}\", axis=1)\n",
    "df['package_repo_url'] = df.apply(lambda x: f\"{gh}{x['package_repo_owner']}/{x['package_repo_name']}\", axis=1)\n",
    "\n",
    "df.tail()"
   ]
  },
  {
   "cell_type": "code",
   "execution_count": 6,
   "id": "549e9bc9",
   "metadata": {},
   "outputs": [
    {
     "data": {
      "text/plain": [
       "package_source\n",
       "GO       386\n",
       "NPM     5977\n",
       "PIP      153\n",
       "RUST    1255\n",
       "Name: package_name, dtype: int64"
      ]
     },
     "execution_count": 6,
     "metadata": {},
     "output_type": "execute_result"
    }
   ],
   "source": [
    "df.groupby('package_source')['package_name'].nunique()"
   ]
  },
  {
   "cell_type": "code",
   "execution_count": 7,
   "id": "56ec97dc",
   "metadata": {},
   "outputs": [
    {
     "name": "stdout",
     "output_type": "stream",
     "text": [
      "\n",
      "### Most Popular NPM Packages ###\n",
      "['babel', 'definitelytyped', 'ethers.js', 'lodash', 'lerna', 'cssnano', 'jest', 'ethereumjs-monorepo', 'esbuild', 'web3.js', 'micromark', 'cspell-dicts', 'webassemblyjs', 'primitives', 'typescript-eslint', 'solidity-analyzer', 'rollup', 'sentry-javascript', 'proxy-agents', 'change-case', 'svgr', 'changesets', 'docusaurus', 'conventional-changelog', 'smithy-typescript', 'istanbuljs', 'react', 'walletconnect-utils', 'hardhat', 'bases', 'edr', 'nx', 'next.js', 'cspell', 'algoliasearch-client-javascript', 'storybook', 'nodelib', 'stablelib', 'emotion', 'protobuf.js', 'vitest', 'it', 'watcher', 'node-rs', 'swc', 'opentelemetry-js', 'js', 'postcss-plugins', 'acorn', 'aws-sdk-js-v3', 'cli', 'undici', 'graphql-tools', 'core', 'cliui', 'eslint-plugin-import', 'walletconnect-monorepo', 'node-source-map-support', 'once', 'js-libp2p', 'babel-polyfills', 'eslint', 'js-yaml', 'biome', 'truffle', 'forge', 'plugins', 'ieee754', 'sigstore-js', 'mdx', 'core-js', 'vercel', 'workbox', 'webdriverio', 'shiki', 'react-router', 'ms', 'create-react-app', 'find-up', 'regenerator', 'sourcemap-codec', 'typechain', 'source-map', 'punycode.js', 'json-stable-stringify', 'colors.js', 'p-locate', 'node-semver', 'strip-json-comments', 'p-limit', 'eslint-utils', 'node-cross-spawn', 'debug', 'ws', 'isexe']\n",
      "\n",
      "### Most Popular RUST Packages ###\n",
      "['windows-rs', 'alloy', 'rust-libp2p', 'wasm-bindgen', 'futures-rs', 'icu4x', 'formats', 'traits', 'utils', 'parity-common', 'tracing', 'anstyle', 'hashes', 'crossbeam', 'clap', 'core', 'rust-url', 'toml', 'tokio', 'gitoxide', 'regex', 'winapi-rs', 'rand', 'parking_lot', 'tower', 'elliptic-curves', 'smithy-rs', 'signatures', 'revm', 'darling', 'time', 'thiserror', 'ciborium', 'rust-phf', 'algebra', 'plotters', 'libsecp256k1', 'quinn', 'serde', 'jemallocator', 'rayon', 'core-foundation-rs', 'data-encoding', 'strum', 'parity-scale-codec', 'rust-security-framework', 'ferrilab', 'jsonrpsee', 'http-body', 'curve25519-dalek', 'pin-project', 'boa', 'uint', 'signal-hook', 'zerocopy', 'foreign-types', 'rust-openssl', 'dirs', 'op-alloy', 'universal-hashes', 'derive_more', 'criterion.rs', 'iana-time-zone', 'axum', 'ethers-rs', 'coins', 'num-bigint', 'rlp', 'password-hashes', 'arbitrary', 'keccak-asm', 'watchexec', 'bytes', 'tempfile', 'rngs', 'asn1-rs', 'rust-secp256k1', 'http', 'scale-info', 'vte']\n",
      "\n",
      "### Most Popular GO Packages ###\n",
      "['aws-sdk-go-v2', 'opentelemetry-go', 'xxhash', 'errors', 'protobuf', 'yaml', 'cors', 'uuid', 'golang-lru', 'golang-set', 'btcd', 'go-runewidth', 'grpc-go', 'uniseg', 'text', 'client_golang', 'compress', 'go-md2man', 'jwt', 'missinggo', 'go-systemd', 'cgosymbolizer', 'blackfriday', 'regexp2', 'go-genproto', 'blst', 'perks', 'cpuid', 'go-kzg-4844', 'goja', 'go-internal', 'ginkgo', 'client_model']\n",
      "\n",
      "### Most Popular PIP Packages ###\n",
      "['sphinx', 'ipython', 'eth-abi', 'typing_extensions', 'requests', 'eth-typing', 'packaging', 'pytest', 'eth-account', 'dateutil', 'black', 'mypy', 'click', 'eth-hash', 'sphinx_rtd_theme']\n"
     ]
    }
   ],
   "source": [
    "for pkg in PACKAGE_SERVERS:\n",
    "    print(f\"\\n### Most Popular {pkg} Packages ###\")\n",
    "    pkg_lst = df[(df['package_source']==pkg) & (df['package_repo_owner'] != '')]['package_repo_name'].value_counts()\n",
    "    nth = int(len(pkg_lst) * (0.025 if pkg == 'NPM' else 0.1))\n",
    "    pkg_lst_top = list(pkg_lst.head(nth).index)\n",
    "    print(pkg_lst_top)"
   ]
  },
  {
   "cell_type": "code",
   "execution_count": 8,
   "id": "f23c6eba",
   "metadata": {},
   "outputs": [
    {
     "data": {
      "text/plain": [
       "2119"
      ]
     },
     "execution_count": 8,
     "metadata": {},
     "output_type": "execute_result"
    }
   ],
   "source": [
    "owners = list(df['package_repo_owner'].unique())\n",
    "len(owners)"
   ]
  },
  {
   "cell_type": "markdown",
   "id": "b488e9fe",
   "metadata": {},
   "source": [
    "# Create a network graph"
   ]
  },
  {
   "cell_type": "code",
   "execution_count": 9,
   "id": "d4b1da4a",
   "metadata": {},
   "outputs": [
    {
     "name": "stdout",
     "output_type": "stream",
     "text": [
      "17367\n"
     ]
    }
   ],
   "source": [
    "G = nx.DiGraph()\n",
    "\n",
    "for seed_repo in SEED_REPOS:\n",
    "    G.add_node(f\"{gh}{seed_repo}\", level=1)\n",
    "    \n",
    "for repo_url in df['package_repo_url'].unique():\n",
    "    if repo_url not in G.nodes:\n",
    "        G.add_node(repo_url, level=2)\n",
    "        \n",
    "for _, row in df.iterrows():\n",
    "    G.add_edge(\n",
    "        row['seed_repo_url'],\n",
    "        row['package_repo_url'],\n",
    "        relation=row['package_source']\n",
    "    )\n",
    "    \n",
    "total_edges = G.number_of_edges()\n",
    "print(total_edges)\n",
    "\n",
    "global_weight = 0\n",
    "for u, v in G.edges:\n",
    "    G[u][v]['weight'] = global_weight\n",
    "    \n",
    "graph_json = nx.node_link_data(G)\n",
    "with open(LOCAL_JSON_PATH, \"w\") as f:\n",
    "    json.dump(graph_json, f, indent=2)"
   ]
  }
 ],
 "metadata": {
  "kernelspec": {
   "display_name": "Python 3 (ipykernel)",
   "language": "python",
   "name": "python3"
  },
  "language_info": {
   "codemirror_mode": {
    "name": "ipython",
    "version": 3
   },
   "file_extension": ".py",
   "mimetype": "text/x-python",
   "name": "python",
   "nbconvert_exporter": "python",
   "pygments_lexer": "ipython3",
   "version": "3.11.5"
  }
 },
 "nbformat": 4,
 "nbformat_minor": 5
}
