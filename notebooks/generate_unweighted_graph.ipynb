{
 "cells": [
  {
   "cell_type": "code",
   "execution_count": 1,
   "id": "81efdd86-cef4-4515-9188-247bd219552b",
   "metadata": {},
   "outputs": [],
   "source": [
    "import json\n",
    "import networkx as nx\n",
    "import os\n",
    "import pandas as pd"
   ]
  },
  {
   "cell_type": "markdown",
   "id": "b17c6b51",
   "metadata": {},
   "source": [
    "# Settings"
   ]
  },
  {
   "cell_type": "code",
   "execution_count": 2,
   "id": "7a2e8fc3",
   "metadata": {},
   "outputs": [],
   "source": [
    "REFRESH_DATA = True\n",
    "LOCAL_CSV_PATH = '../graph/unweighted_graph.csv'\n",
    "LOCAL_JSON_PATH = '../graph/unweighted_graph.json'"
   ]
  },
  {
   "cell_type": "code",
   "execution_count": 3,
   "id": "6707dd57",
   "metadata": {},
   "outputs": [],
   "source": [
    "CONSENSUS = [\n",
    "    'prysmaticlabs/prysm',\n",
    "    'sigp/lighthouse',\n",
    "    'consensys/teku',\n",
    "    'status-im/nimbus-eth2',\n",
    "    'chainsafe/lodestar',\n",
    "    'grandinetech/grandine'\n",
    "]\n",
    "EXECUTION = [\n",
    "    'ethereum/go-ethereum',\n",
    "    'nethermindeth/nethermind',\n",
    "    'hyperledger/besu',\n",
    "    'erigontech/erigon',\n",
    "    'paradigmxyz/reth'\n",
    "]\n",
    "OTHER = [\n",
    "    'ethereum/py-evm',\n",
    "    'eth-infinitism/account-abstraction',\n",
    "    'safe-global/safe-smart-account',\n",
    "    'a16z/helios',\n",
    "    'ethereumjs/ethereumjs-monorepo'    \n",
    "]\n",
    "DEV_GUILD = [\n",
    "    'ethereum/web3.py',\n",
    "    'ethers-io/ethers.js', # new\n",
    "    'hyperledger-web3j/web3j', # new\n",
    "    'alloy-rs/alloy', # new\n",
    "    'nethereum/nethereum', # new\n",
    "    'wevm/viem', # new\n",
    "#    'web3/web3.js', # removed    \n",
    "    \n",
    "    'nomicfoundation/hardhat', # new\n",
    "    'foundry-rs/foundry', # new\n",
    "    'ethereum/remix-project',\n",
    "    'apeworx/ape', # new\n",
    "    'vyperlang/titanoboa', # new\n",
    "    'ethereum-lists/chains', # new\n",
    "    \n",
    "    'ethereum/solidity', # includes yul\n",
    "    'vyperlang/vyper',\n",
    "    'ethereum/fe', # new\n",
    "    \n",
    "    'ethereum/sourcify', # new\n",
    "    \n",
    "    'openzeppelin/openzeppelin-contracts', # new\n",
    "    'scaffold-eth/scaffold-eth-2' # new\n",
    "]\n",
    "SEED_REPOS = CONSENSUS + EXECUTION + OTHER + DEV_GUILD\n",
    "PACKAGE_SERVERS = ['NPM', 'CARGO', 'GOLANG', 'PYPI']"
   ]
  },
  {
   "cell_type": "markdown",
   "id": "1cabde46",
   "metadata": {},
   "source": [
    "# Get SBOMs for repos we care about\n",
    "\n",
    "- Subscribe to the OSO Production dataset on BigQuery (see docs [here](https://docs.opensource.observer/docs/get-started/bigquery))\n",
    "- Enter the following query into your [console](https://console.cloud.google.com/bigquery) to get a fresh copy of the graph\n",
    "- Save it as a CSV file to `../graph/unweighted_graph.csv`"
   ]
  },
  {
   "cell_type": "code",
   "execution_count": 4,
   "id": "34076d84-9bda-406f-abed-f7ed07608027",
   "metadata": {},
   "outputs": [
    {
     "name": "stdout",
     "output_type": "stream",
     "text": [
      "Query saved to local CSV file.\n"
     ]
    }
   ],
   "source": [
    "def stringify_array(arr):\n",
    "    return \"'\" + \"','\".join(arr) + \"'\"\n",
    "\n",
    "query = f\"\"\"\n",
    "  -- COPY THIS INTO YOUR BIGQUERY CONSOLE\n",
    "  \n",
    "  select distinct\n",
    "    sboms.from_artifact_namespace as seed_repo_owner,\n",
    "    sboms.from_artifact_name as seed_repo_name,\n",
    "    sboms.to_package_artifact_name as package_name,\n",
    "    package_owners.package_owner_artifact_namespace as package_repo_owner,\n",
    "    package_owners.package_owner_artifact_name as package_repo_name,\n",
    "    sboms.to_package_artifact_source as package_source\n",
    "  from `oso_production.sboms_v0` sboms\n",
    "  join `oso_production.package_owners_v0` package_owners\n",
    "    on\n",
    "      sboms.to_package_artifact_name = package_owners.package_artifact_name\n",
    "      and sboms.to_package_artifact_source = package_owners.package_artifact_source\n",
    "  where\n",
    "    sboms.to_package_artifact_source in ({stringify_array(PACKAGE_SERVERS)})\n",
    "    and package_owners.package_owner_artifact_namespace is not null\n",
    "    and concat(sboms.from_artifact_namespace, '/', sboms.from_artifact_name)\n",
    "      in ({stringify_array(SEED_REPOS)})\n",
    "\"\"\"\n",
    "\n",
    "if REFRESH_DATA:\n",
    "\n",
    "    from google.cloud import bigquery\n",
    "\n",
    "    # replace with your path to credentials\n",
    "    os.environ['GOOGLE_APPLICATION_CREDENTIALS'] = '../oso_gcp_credentials.json'\n",
    "\n",
    "    # replace with your project name\n",
    "    client = bigquery.Client(project='opensource-observer')\n",
    "    \n",
    "    # execute the query and save it\n",
    "    results = client.query(query)\n",
    "    df = results.to_dataframe()\n",
    "    df.to_csv(LOCAL_CSV_PATH)\n",
    "    print(\"Query saved to local CSV file.\")\n",
    "\n",
    "else:    \n",
    "    print(query)"
   ]
  },
  {
   "cell_type": "markdown",
   "id": "2e75f732",
   "metadata": {},
   "source": [
    "# Load the graph as a CSV"
   ]
  },
  {
   "cell_type": "code",
   "execution_count": 5,
   "id": "25a9716a",
   "metadata": {},
   "outputs": [
    {
     "data": {
      "text/html": [
       "<div>\n",
       "<style scoped>\n",
       "    .dataframe tbody tr th:only-of-type {\n",
       "        vertical-align: middle;\n",
       "    }\n",
       "\n",
       "    .dataframe tbody tr th {\n",
       "        vertical-align: top;\n",
       "    }\n",
       "\n",
       "    .dataframe thead th {\n",
       "        text-align: right;\n",
       "    }\n",
       "</style>\n",
       "<table border=\"1\" class=\"dataframe\">\n",
       "  <thead>\n",
       "    <tr style=\"text-align: right;\">\n",
       "      <th></th>\n",
       "      <th>seed_repo_owner</th>\n",
       "      <th>seed_repo_name</th>\n",
       "      <th>package_name</th>\n",
       "      <th>package_repo_owner</th>\n",
       "      <th>package_repo_name</th>\n",
       "      <th>package_source</th>\n",
       "      <th>seed_repo_url</th>\n",
       "      <th>package_repo_url</th>\n",
       "    </tr>\n",
       "  </thead>\n",
       "  <tbody>\n",
       "    <tr>\n",
       "      <th>20587</th>\n",
       "      <td>openzeppelin</td>\n",
       "      <td>openzeppelin-contracts</td>\n",
       "      <td>min-indent</td>\n",
       "      <td>thejameskyle</td>\n",
       "      <td>min-indent</td>\n",
       "      <td>NPM</td>\n",
       "      <td>https://github.com/openzeppelin/openzeppelin-c...</td>\n",
       "      <td>https://github.com/thejameskyle/min-indent</td>\n",
       "    </tr>\n",
       "    <tr>\n",
       "      <th>20588</th>\n",
       "      <td>openzeppelin</td>\n",
       "      <td>openzeppelin-contracts</td>\n",
       "      <td>fill-range</td>\n",
       "      <td>jonschlinkert</td>\n",
       "      <td>fill-range</td>\n",
       "      <td>NPM</td>\n",
       "      <td>https://github.com/openzeppelin/openzeppelin-c...</td>\n",
       "      <td>https://github.com/jonschlinkert/fill-range</td>\n",
       "    </tr>\n",
       "    <tr>\n",
       "      <th>20589</th>\n",
       "      <td>openzeppelin</td>\n",
       "      <td>openzeppelin-contracts</td>\n",
       "      <td>punycode</td>\n",
       "      <td>mathiasbynens</td>\n",
       "      <td>punycode.js</td>\n",
       "      <td>NPM</td>\n",
       "      <td>https://github.com/openzeppelin/openzeppelin-c...</td>\n",
       "      <td>https://github.com/mathiasbynens/punycode.js</td>\n",
       "    </tr>\n",
       "    <tr>\n",
       "      <th>20590</th>\n",
       "      <td>openzeppelin</td>\n",
       "      <td>openzeppelin-contracts</td>\n",
       "      <td>he</td>\n",
       "      <td>mathiasbynens</td>\n",
       "      <td>he</td>\n",
       "      <td>NPM</td>\n",
       "      <td>https://github.com/openzeppelin/openzeppelin-c...</td>\n",
       "      <td>https://github.com/mathiasbynens/he</td>\n",
       "    </tr>\n",
       "    <tr>\n",
       "      <th>20591</th>\n",
       "      <td>openzeppelin</td>\n",
       "      <td>openzeppelin-contracts</td>\n",
       "      <td>@types/http-cache-semantics</td>\n",
       "      <td>definitelytyped</td>\n",
       "      <td>definitelytyped</td>\n",
       "      <td>NPM</td>\n",
       "      <td>https://github.com/openzeppelin/openzeppelin-c...</td>\n",
       "      <td>https://github.com/definitelytyped/definitelyt...</td>\n",
       "    </tr>\n",
       "  </tbody>\n",
       "</table>\n",
       "</div>"
      ],
      "text/plain": [
       "      seed_repo_owner          seed_repo_name                 package_name  \\\n",
       "20587    openzeppelin  openzeppelin-contracts                   min-indent   \n",
       "20588    openzeppelin  openzeppelin-contracts                   fill-range   \n",
       "20589    openzeppelin  openzeppelin-contracts                     punycode   \n",
       "20590    openzeppelin  openzeppelin-contracts                           he   \n",
       "20591    openzeppelin  openzeppelin-contracts  @types/http-cache-semantics   \n",
       "\n",
       "      package_repo_owner package_repo_name package_source  \\\n",
       "20587       thejameskyle        min-indent            NPM   \n",
       "20588      jonschlinkert        fill-range            NPM   \n",
       "20589      mathiasbynens       punycode.js            NPM   \n",
       "20590      mathiasbynens                he            NPM   \n",
       "20591    definitelytyped   definitelytyped            NPM   \n",
       "\n",
       "                                           seed_repo_url  \\\n",
       "20587  https://github.com/openzeppelin/openzeppelin-c...   \n",
       "20588  https://github.com/openzeppelin/openzeppelin-c...   \n",
       "20589  https://github.com/openzeppelin/openzeppelin-c...   \n",
       "20590  https://github.com/openzeppelin/openzeppelin-c...   \n",
       "20591  https://github.com/openzeppelin/openzeppelin-c...   \n",
       "\n",
       "                                        package_repo_url  \n",
       "20587         https://github.com/thejameskyle/min-indent  \n",
       "20588        https://github.com/jonschlinkert/fill-range  \n",
       "20589       https://github.com/mathiasbynens/punycode.js  \n",
       "20590                https://github.com/mathiasbynens/he  \n",
       "20591  https://github.com/definitelytyped/definitelyt...  "
      ]
     },
     "execution_count": 5,
     "metadata": {},
     "output_type": "execute_result"
    }
   ],
   "source": [
    "df = pd.read_csv(LOCAL_CSV_PATH, index_col=0)\n",
    "\n",
    "gh = 'https://github.com/'\n",
    "df['seed_repo_url'] = df.apply(lambda x: f\"{gh}{x['seed_repo_owner']}/{x['seed_repo_name']}\", axis=1)\n",
    "df['package_repo_url'] = df.apply(lambda x: f\"{gh}{x['package_repo_owner']}/{x['package_repo_name']}\", axis=1)\n",
    "\n",
    "df.tail()"
   ]
  },
  {
   "cell_type": "code",
   "execution_count": 6,
   "id": "549e9bc9",
   "metadata": {},
   "outputs": [
    {
     "data": {
      "text/plain": [
       "package_source\n",
       "CARGO     1363\n",
       "GOLANG     387\n",
       "NPM       5575\n",
       "PYPI       162\n",
       "Name: package_name, dtype: int64"
      ]
     },
     "execution_count": 6,
     "metadata": {},
     "output_type": "execute_result"
    }
   ],
   "source": [
    "df.groupby('package_source')['package_name'].nunique()"
   ]
  },
  {
   "cell_type": "code",
   "execution_count": 7,
   "id": "56ec97dc",
   "metadata": {},
   "outputs": [
    {
     "name": "stdout",
     "output_type": "stream",
     "text": [
      "\n",
      "### Most Popular NPM Packages ###\n",
      "['babel', 'definitelytyped', 'ethers.js', 'esbuild', 'lodash', 'lerna', 'ethereumjs-monorepo', 'cspell-dicts', 'cssnano', 'rollup', 'web3.js', 'micromark', 'webassemblyjs', 'jest', 'typescript-eslint', 'solidity-analyzer', 'sentry-javascript', 'changesets', 'proxy-agents', 'smithy-typescript', 'edr', 'change-case', 'nx', 'next.js', 'cspell', 'storybook', 'stablelib', 'conventional-changelog', 'aws-sdk-js-v3', 'hardhat', 'istanbuljs', 'protobuf.js', 'walletconnect-utils', 'primitives', 'bases', 'react', 'vitest', 'nodelib', 'watcher', 'node-rs', 'emotion', 'svgr', 'biome', 'swc', 'opentelemetry-js', 'algoliasearch-client-javascript', 'docusaurus', 'js', 'graphql-tools', 'core', 'it', 'acorn', 'undici', 'js-libp2p', 'cliui', 'cli', 'shiki', 'node-source-map-support', 'eslint', 'sigstore-js', 'webdriverio', 'once', 'inquirer.js', 'vercel', 'find-up', 'punycode.js', 'forge', 'ms', 'js-yaml', 'source-map', 'eslint-plugin-import', 'path-exists', 'locate-path', 'snappy', 'isexe', 'p-locate', 'node-which', 'shebang-command', 'node-semver', 'debug', 'path-key', 'ieee754', 'shebang-regex', 'node-cross-spawn', 'ws', 'plugins', 'mdx', 'p-limit']\n",
      "\n",
      "### Most Popular CARGO Packages ###\n",
      "['icu4x', 'windows-rs', 'alloy', 'rust-libp2p', 'futures-rs', 'wasm-bindgen', 'formats', 'traits', 'utils', 'anstyle', 'tracing', 'parity-common', 'core', 'hashes', 'clap', 'crossbeam', 'rust-url', 'toml', 'tokio', 'tower', 'jsonrpsee', 'winapi-rs', 'parking_lot', 'regex', 'rand', 'gitoxide', 'algebra', 'libsecp256k1', 'signatures', 'revm', 'plotters', 'core-foundation-rs', 'time', 'ciborium', 'darling', 'elliptic-curves', 'smithy-rs', 'serde', 'data-encoding', 'quinn', 'ferrilab', 'rayon', 'zerocopy', 'strum', 'curve25519-dalek', 'rust-security-framework', 'thiserror', 'rust-phf', 'op-alloy', 'parity-scale-codec', 'derive_more', 'foreign-types', 'universal-hashes', 'jemallocator', 'http-body', 'iana-time-zone', 'rust-openssl', 'criterion.rs', 'signal-hook', 'rlp', 'pin-project', 'uint', 'asn1-rs', 'rngs', 'eips', 'axum', 'rust-secp256k1', 'dirs', 'num-bigint', 'system-configuration-rs', 'proptest', 'serde_with', 'gloo', 'keccak-asm', 'vte', 'boa', 'password-hashes', 'http', 'coins', 'maili', 'bytes', 'arbitrary', 'tempfile', 'trie', 'json', 'pest', 'async-stream']\n",
      "\n",
      "### Most Popular GOLANG Packages ###\n",
      "['aws-sdk-go-v2', 'opentelemetry-go', 'errors', 'xxhash', 'protobuf', 'transport', 'cors', 'golang-set', 'golang-lru', 'yaml', 'uuid', 'gopsutil', 'dtls', 'blst', 'ginkgo', 'jwt', 'smetrics', 'wmi', 'addchain', 'mapstructure', 'bavard', 'go', 'fastssz', 'go-md2man', 'pprof', 'goupnp', 'bloomfilter', 'go-ole', 'go-runewidth', 'cli', 'go-internal', 'sourcemap', 'flock']\n",
      "\n",
      "### Most Popular PYPI Packages ###\n",
      "['requests', 'ipython', 'sphinx', 'eth-typing', 'eth-account', 'pytest', 'typing_extensions', 'eth-abi', 'packaging', 'asttokens', 'hypothesis', 'mypy', 'nest_asyncio', 'dateutil', 'pydantic', 'traitlets']\n"
     ]
    }
   ],
   "source": [
    "for pkg in PACKAGE_SERVERS:\n",
    "    print(f\"\\n### Most Popular {pkg} Packages ###\")\n",
    "    pkg_lst = df[(df['package_source']==pkg) & (df['package_repo_owner'] != '')]['package_repo_name'].value_counts()\n",
    "    nth = int(len(pkg_lst) * (0.025 if pkg == 'NPM' else 0.1))\n",
    "    pkg_lst_top = list(pkg_lst.head(nth).index)\n",
    "    print(pkg_lst_top)"
   ]
  },
  {
   "cell_type": "code",
   "execution_count": 8,
   "id": "f23c6eba",
   "metadata": {},
   "outputs": [
    {
     "data": {
      "text/plain": [
       "2046"
      ]
     },
     "execution_count": 8,
     "metadata": {},
     "output_type": "execute_result"
    }
   ],
   "source": [
    "owners = list(df['package_repo_owner'].unique())\n",
    "len(owners)"
   ]
  },
  {
   "cell_type": "markdown",
   "id": "b488e9fe",
   "metadata": {},
   "source": [
    "# Create a network graph"
   ]
  },
  {
   "cell_type": "code",
   "execution_count": 9,
   "id": "d4b1da4a",
   "metadata": {},
   "outputs": [
    {
     "name": "stdout",
     "output_type": "stream",
     "text": [
      "14927\n"
     ]
    }
   ],
   "source": [
    "G = nx.DiGraph()\n",
    "\n",
    "for seed_repo in SEED_REPOS:\n",
    "    G.add_node(f\"{gh}{seed_repo}\", level=1)\n",
    "    \n",
    "for repo_url in df['package_repo_url'].unique():\n",
    "    if repo_url not in G.nodes:\n",
    "        G.add_node(repo_url, level=2)\n",
    "        \n",
    "for _, row in df.iterrows():\n",
    "    G.add_edge(\n",
    "        row['seed_repo_url'],\n",
    "        row['package_repo_url'],\n",
    "        relation=row['package_source']\n",
    "    )\n",
    "    \n",
    "total_edges = G.number_of_edges()\n",
    "print(total_edges)\n",
    "\n",
    "global_weight = 0\n",
    "for u, v in G.edges:\n",
    "    G[u][v]['weight'] = global_weight\n",
    "    \n",
    "graph_json = nx.node_link_data(G)\n",
    "with open(LOCAL_JSON_PATH, \"w\") as f:\n",
    "    json.dump(graph_json, f, indent=2)"
   ]
  }
 ],
 "metadata": {
  "kernelspec": {
   "display_name": "Python 3 (ipykernel)",
   "language": "python",
   "name": "python3"
  },
  "language_info": {
   "codemirror_mode": {
    "name": "ipython",
    "version": 3
   },
   "file_extension": ".py",
   "mimetype": "text/x-python",
   "name": "python",
   "nbconvert_exporter": "python",
   "pygments_lexer": "ipython3",
   "version": "3.11.5"
  }
 },
 "nbformat": 4,
 "nbformat_minor": 5
}
