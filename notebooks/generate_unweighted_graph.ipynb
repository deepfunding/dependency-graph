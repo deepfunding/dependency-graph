{
 "cells": [
  {
   "cell_type": "code",
   "execution_count": 1,
   "id": "81efdd86-cef4-4515-9188-247bd219552b",
   "metadata": {},
   "outputs": [],
   "source": [
    "import json\n",
    "import networkx as nx\n",
    "import pandas as pd"
   ]
  },
  {
   "cell_type": "markdown",
   "id": "b17c6b51",
   "metadata": {},
   "source": [
    "# Settings"
   ]
  },
  {
   "cell_type": "code",
   "execution_count": 2,
   "id": "6707dd57",
   "metadata": {},
   "outputs": [],
   "source": [
    "LOCAL_CSV_PATH = '../graph/unweighted_graph.csv'\n",
    "LOCAL_JSON_PATH = '../graph/unweighted_graph.json'\n",
    "CONSENSUS = [\n",
    "    'prysmaticlabs/prysm',\n",
    "    'sigp/lighthouse',\n",
    "    'consensys/teku',\n",
    "    'status-im/nimbus-eth2',\n",
    "    'chainsafe/lodestar',\n",
    "    'grandinetech/grandine'\n",
    "]\n",
    "EXECUTION = [\n",
    "    'ethereum/go-ethereum',\n",
    "    'nethermindeth/nethermind',\n",
    "    'hyperledger/besu',\n",
    "    'erigontech/erigon',\n",
    "    'paradigmxyz/reth'\n",
    "]\n",
    "OTHER = [\n",
    "    'ethereum/solidity',\n",
    "    'ethereum/remix-project',\n",
    "    'vyperlang/vyper',\n",
    "    'ethereum/web3.py',\n",
    "    'ethereum/py-evm',\n",
    "    'eth-infinitism/account-abstraction',\n",
    "    'safe-global/safe-smart-account',\n",
    "    'a16z/helios',\n",
    "    'web3/web3.js', # prev. 'ethereum/web3.js',\n",
    "    'ethereumjs/ethereumjs-monorepo'    \n",
    "]\n",
    "SEED_REPOS = CONSENSUS + EXECUTION + OTHER\n",
    "PACKAGE_SERVERS = ['NPM', 'RUST', 'GO', 'PIP']"
   ]
  },
  {
   "cell_type": "markdown",
   "id": "1cabde46",
   "metadata": {},
   "source": [
    "# Get SBOMs for repos we care about\n",
    "\n",
    "- Subscribe to the OSO Production dataset on BigQuery (see docs [here](https://docs.opensource.observer/docs/get-started/bigquery))\n",
    "- Enter the following query into your [console](https://console.cloud.google.com/bigquery) to get a fresh copy of the graph\n",
    "- Save it as a CSV file to `../graph/unweighted_graph.csv`"
   ]
  },
  {
   "cell_type": "code",
   "execution_count": 3,
   "id": "34076d84-9bda-406f-abed-f7ed07608027",
   "metadata": {},
   "outputs": [
    {
     "name": "stdout",
     "output_type": "stream",
     "text": [
      "\n",
      "  -- COPY THIS INTO YOUR BIGQUERY CONSOLE\n",
      "  \n",
      "  select distinct\n",
      "    sboms.from_artifact_namespace as seed_repo_owner,\n",
      "    sboms.from_artifact_name as seed_repo_name,\n",
      "    sboms.to_package_artifact_name as package_name,\n",
      "    package_owners.package_owner_artifact_namespace as package_repo_owner,\n",
      "    package_owners.package_owner_artifact_name as package_repo_name,\n",
      "    sboms.to_package_artifact_source as package_source\n",
      "  from `oso_production.sboms_v0` sboms\n",
      "  join `oso_production.package_owners_v0` package_owners\n",
      "    on\n",
      "      sboms.to_package_artifact_name = package_owners.package_artifact_name\n",
      "      and sboms.to_package_artifact_source = package_owners.package_artifact_source\n",
      "  where\n",
      "    sboms.to_package_artifact_source in ('NPM','RUST','GO','PIP')\n",
      "    and package_owners.package_owner_artifact_namespace is not null\n",
      "    and concat(sboms.from_artifact_namespace, '/', sboms.from_artifact_name)\n",
      "      in ('prysmaticlabs/prysm','sigp/lighthouse','consensys/teku','status-im/nimbus-eth2','chainsafe/lodestar','grandinetech/grandine','ethereum/go-ethereum','nethermindeth/nethermind','hyperledger/besu','erigontech/erigon','paradigmxyz/reth','ethereum/solidity','ethereum/remix-project','vyperlang/vyper','ethereum/web3.py','ethereum/py-evm','eth-infinitism/account-abstraction','safe-global/safe-smart-account','a16z/helios','web3/web3.js','ethereumjs/ethereumjs-monorepo')\n",
      "\n"
     ]
    }
   ],
   "source": [
    "def stringify_array(arr):\n",
    "    return \"'\" + \"','\".join(arr) + \"'\"\n",
    "\n",
    "query = f\"\"\"\n",
    "  -- COPY THIS INTO YOUR BIGQUERY CONSOLE\n",
    "  \n",
    "  select distinct\n",
    "    sboms.from_artifact_namespace as seed_repo_owner,\n",
    "    sboms.from_artifact_name as seed_repo_name,\n",
    "    sboms.to_package_artifact_name as package_name,\n",
    "    package_owners.package_owner_artifact_namespace as package_repo_owner,\n",
    "    package_owners.package_owner_artifact_name as package_repo_name,\n",
    "    sboms.to_package_artifact_source as package_source\n",
    "  from `oso_production.sboms_v0` sboms\n",
    "  join `oso_production.package_owners_v0` package_owners\n",
    "    on\n",
    "      sboms.to_package_artifact_name = package_owners.package_artifact_name\n",
    "      and sboms.to_package_artifact_source = package_owners.package_artifact_source\n",
    "  where\n",
    "    sboms.to_package_artifact_source in ({stringify_array(PACKAGE_SERVERS)})\n",
    "    and package_owners.package_owner_artifact_namespace is not null\n",
    "    and concat(sboms.from_artifact_namespace, '/', sboms.from_artifact_name)\n",
    "      in ({stringify_array(SEED_REPOS)})\n",
    "\"\"\"\n",
    "print(query)\n"
   ]
  },
  {
   "cell_type": "markdown",
   "id": "2e75f732",
   "metadata": {},
   "source": [
    "# Load the graph as a CSV"
   ]
  },
  {
   "cell_type": "code",
   "execution_count": 4,
   "id": "25a9716a",
   "metadata": {},
   "outputs": [
    {
     "data": {
      "text/html": [
       "<div>\n",
       "<style scoped>\n",
       "    .dataframe tbody tr th:only-of-type {\n",
       "        vertical-align: middle;\n",
       "    }\n",
       "\n",
       "    .dataframe tbody tr th {\n",
       "        vertical-align: top;\n",
       "    }\n",
       "\n",
       "    .dataframe thead th {\n",
       "        text-align: right;\n",
       "    }\n",
       "</style>\n",
       "<table border=\"1\" class=\"dataframe\">\n",
       "  <thead>\n",
       "    <tr style=\"text-align: right;\">\n",
       "      <th></th>\n",
       "      <th>seed_repo_owner</th>\n",
       "      <th>seed_repo_name</th>\n",
       "      <th>package_name</th>\n",
       "      <th>package_repo_owner</th>\n",
       "      <th>package_repo_name</th>\n",
       "      <th>package_source</th>\n",
       "      <th>seed_repo_url</th>\n",
       "      <th>package_repo_url</th>\n",
       "    </tr>\n",
       "  </thead>\n",
       "  <tbody>\n",
       "    <tr>\n",
       "      <th>13531</th>\n",
       "      <td>ethereumjs</td>\n",
       "      <td>ethereumjs-monorepo</td>\n",
       "      <td>@msgpackr-extract/msgpackr-extract-darwin-x64</td>\n",
       "      <td>kriszyp</td>\n",
       "      <td>msgpackr-extract</td>\n",
       "      <td>NPM</td>\n",
       "      <td>https://github.com/ethereumjs/ethereumjs-monorepo</td>\n",
       "      <td>https://github.com/kriszyp/msgpackr-extract</td>\n",
       "    </tr>\n",
       "    <tr>\n",
       "      <th>13532</th>\n",
       "      <td>ethereumjs</td>\n",
       "      <td>ethereumjs-monorepo</td>\n",
       "      <td>@types/aria-query</td>\n",
       "      <td>definitelytyped</td>\n",
       "      <td>definitelytyped</td>\n",
       "      <td>NPM</td>\n",
       "      <td>https://github.com/ethereumjs/ethereumjs-monorepo</td>\n",
       "      <td>https://github.com/definitelytyped/definitelyt...</td>\n",
       "    </tr>\n",
       "    <tr>\n",
       "      <th>13533</th>\n",
       "      <td>ethereumjs</td>\n",
       "      <td>ethereumjs-monorepo</td>\n",
       "      <td>trim-lines</td>\n",
       "      <td>wooorm</td>\n",
       "      <td>trim-lines</td>\n",
       "      <td>NPM</td>\n",
       "      <td>https://github.com/ethereumjs/ethereumjs-monorepo</td>\n",
       "      <td>https://github.com/wooorm/trim-lines</td>\n",
       "    </tr>\n",
       "    <tr>\n",
       "      <th>13534</th>\n",
       "      <td>ethereumjs</td>\n",
       "      <td>ethereumjs-monorepo</td>\n",
       "      <td>moment</td>\n",
       "      <td>moment</td>\n",
       "      <td>moment</td>\n",
       "      <td>NPM</td>\n",
       "      <td>https://github.com/ethereumjs/ethereumjs-monorepo</td>\n",
       "      <td>https://github.com/moment/moment</td>\n",
       "    </tr>\n",
       "    <tr>\n",
       "      <th>13535</th>\n",
       "      <td>ethereumjs</td>\n",
       "      <td>ethereumjs-monorepo</td>\n",
       "      <td>socks</td>\n",
       "      <td>joshglazebrook</td>\n",
       "      <td>socks</td>\n",
       "      <td>NPM</td>\n",
       "      <td>https://github.com/ethereumjs/ethereumjs-monorepo</td>\n",
       "      <td>https://github.com/joshglazebrook/socks</td>\n",
       "    </tr>\n",
       "  </tbody>\n",
       "</table>\n",
       "</div>"
      ],
      "text/plain": [
       "      seed_repo_owner       seed_repo_name  \\\n",
       "13531      ethereumjs  ethereumjs-monorepo   \n",
       "13532      ethereumjs  ethereumjs-monorepo   \n",
       "13533      ethereumjs  ethereumjs-monorepo   \n",
       "13534      ethereumjs  ethereumjs-monorepo   \n",
       "13535      ethereumjs  ethereumjs-monorepo   \n",
       "\n",
       "                                        package_name package_repo_owner  \\\n",
       "13531  @msgpackr-extract/msgpackr-extract-darwin-x64            kriszyp   \n",
       "13532                              @types/aria-query    definitelytyped   \n",
       "13533                                     trim-lines             wooorm   \n",
       "13534                                         moment             moment   \n",
       "13535                                          socks     joshglazebrook   \n",
       "\n",
       "      package_repo_name package_source  \\\n",
       "13531  msgpackr-extract            NPM   \n",
       "13532   definitelytyped            NPM   \n",
       "13533        trim-lines            NPM   \n",
       "13534            moment            NPM   \n",
       "13535             socks            NPM   \n",
       "\n",
       "                                           seed_repo_url  \\\n",
       "13531  https://github.com/ethereumjs/ethereumjs-monorepo   \n",
       "13532  https://github.com/ethereumjs/ethereumjs-monorepo   \n",
       "13533  https://github.com/ethereumjs/ethereumjs-monorepo   \n",
       "13534  https://github.com/ethereumjs/ethereumjs-monorepo   \n",
       "13535  https://github.com/ethereumjs/ethereumjs-monorepo   \n",
       "\n",
       "                                        package_repo_url  \n",
       "13531        https://github.com/kriszyp/msgpackr-extract  \n",
       "13532  https://github.com/definitelytyped/definitelyt...  \n",
       "13533               https://github.com/wooorm/trim-lines  \n",
       "13534                   https://github.com/moment/moment  \n",
       "13535            https://github.com/joshglazebrook/socks  "
      ]
     },
     "execution_count": 4,
     "metadata": {},
     "output_type": "execute_result"
    }
   ],
   "source": [
    "df = pd.read_csv(LOCAL_CSV_PATH)\n",
    "\n",
    "gh = 'https://github.com/'\n",
    "df['seed_repo_url'] = df.apply(lambda x: f\"{gh}{x['seed_repo_owner']}/{x['seed_repo_name']}\", axis=1)\n",
    "df['package_repo_url'] = df.apply(lambda x: f\"{gh}{x['package_repo_owner']}/{x['package_repo_name']}\", axis=1)\n",
    "\n",
    "df.tail()"
   ]
  },
  {
   "cell_type": "code",
   "execution_count": 8,
   "id": "8a02079b",
   "metadata": {},
   "outputs": [
    {
     "data": {
      "text/plain": [
       "package_source\n",
       "GO       386\n",
       "NPM     4661\n",
       "PIP      126\n",
       "RUST    1037\n",
       "Name: package_name, dtype: int64"
      ]
     },
     "execution_count": 8,
     "metadata": {},
     "output_type": "execute_result"
    }
   ],
   "source": [
    "df.groupby('package_source')['package_name'].nunique()"
   ]
  },
  {
   "cell_type": "code",
   "execution_count": 5,
   "id": "56ec97dc",
   "metadata": {},
   "outputs": [
    {
     "name": "stdout",
     "output_type": "stream",
     "text": [
      "\n",
      "### Most Popular NPM Packages ###\n",
      "['babel', 'definitelytyped', 'ethers.js', 'lerna', 'lodash', 'cssnano', 'jest', 'web3.js', 'ethereumjs-monorepo', 'esbuild', 'micromark', 'cspell-dicts', 'docusaurus', 'webassemblyjs', 'svgr', 'primitives', 'typescript-eslint', 'rollup', 'proxy-agents', 'change-case', 'nx', 'solidity-analyzer', 'node-rs', 'sentry-javascript', 'conventional-changelog', 'algoliasearch-client-javascript', 'graphql-tools', 'swc', 'vitest', 'istanbuljs', 'it', 'bases', 'cli', 'js-libp2p', 'cspell', 'nodelib', 'stablelib', 'react', 'watcher', 'webdriverio', 'walletconnect-utils', 'core', 'snappy', 'emotion', 'forge', 'js', 'hardhat', 'lodestar', 'babel-polyfills', 'acorn', 'eslint-plugin-import', 'undici', 'graphql-code-generator', 'protobuf.js', 'cliui', 'sigstore-js', 'core-js', 'web3modal', 'inquirer.js', 'js-yaml', 'eslint', 'plugins', 'node-source-map-support', 'formatjs', 'once', 'remix-plugin', 'source-map', 'react-router', 'biome', 'floating-ui', 'ieee754', 'json-stable-stringify', 'azure-sdk-for-js', 'tuf-js', 'regenerator', 'swap-or-not-shuffle']\n",
      "\n",
      "### Most Popular RUST Packages ###\n",
      "['rust-libp2p', 'windows-rs', 'icu4x', 'alloy', 'futures-rs', 'traits', 'formats', 'wasm-bindgen', 'utils', 'tracing', 'anstyle', 'parity-common', 'crossbeam', 'hashes', 'rust-url', 'clap', 'libsecp256k1', 'tokio', 'toml', 'elliptic-curves', 'core', 'winapi-rs', 'regex', 'curve25519-dalek', 'quinn', 'parking_lot', 'rand', 'signatures', 'jsonrpsee', 'tower', 'darling', 'data-encoding', 'ciborium', 'jemallocator', 'time', 'plotters', 'algebra', 'universal-hashes', 'boa', 'thiserror', 'rust-phf', 'dirs', 'zerocopy', 'serde', 'ferrilab', 'rust-security-framework', 'rayon', 'criterion.rs', 'parity-scale-codec', 'http-body', 'strum', 'iana-time-zone', 'asn1-rs', 'serde_with', 'pin-project', 'op-alloy', 'core-foundation-rs', 'diesel', 'zstd-rs', 'signal-hook', 'aeads', 'num-bigint', 'password-hashes', 'derive_more', 'ethers-rs', 'axum', 'ethereum_ssz', 'rngs']\n",
      "\n",
      "### Most Popular GO Packages ###\n",
      "['aws-sdk-go-v2', 'opentelemetry-go', 'xxhash', 'errors', 'protobuf', 'golang-lru', 'cors', 'golang-set', 'yaml', 'uuid', 'gofuzz', 'flock', 'transport', 'btcd', 'go-genproto', 'sourcemap', 'testify', 'go-nat-pmp', 'tmplfunc', 'common', 'pretty', 'cli', 'go-sysconf', 'regexp2', 'go-spew', 'client_model', 'bavard', 'procfs', 'go', 'perks', 'client_golang', 'websocket', 'smetrics']\n",
      "\n",
      "### Most Popular PIP Packages ###\n",
      "['sphinx', 'asttokens', 'packaging', 'eth-hash', 'importlib_metadata', 'wheel', 'typing_extensions', 'ipython', 'sphinx-a4doc', 'attrs', 'argon2-cffi-bindings', 'pyzmq']\n"
     ]
    }
   ],
   "source": [
    "for pkg in PACKAGE_SERVERS:\n",
    "    print(f\"\\n### Most Popular {pkg} Packages ###\")\n",
    "    pkg_lst = df[(df['package_source']==pkg) & (df['package_repo_owner'] != '')]['package_repo_name'].value_counts()\n",
    "    nth = int(len(pkg_lst) * (0.025 if pkg == 'NPM' else 0.1))\n",
    "    pkg_lst_top = list(pkg_lst.head(nth).index)\n",
    "    print(pkg_lst_top)"
   ]
  },
  {
   "cell_type": "code",
   "execution_count": 6,
   "id": "f23c6eba",
   "metadata": {},
   "outputs": [
    {
     "data": {
      "text/plain": [
       "1719"
      ]
     },
     "execution_count": 6,
     "metadata": {},
     "output_type": "execute_result"
    }
   ],
   "source": [
    "owners = list(df['package_repo_owner'].unique())\n",
    "len(owners)"
   ]
  },
  {
   "cell_type": "markdown",
   "id": "b488e9fe",
   "metadata": {},
   "source": [
    "# Create a network graph"
   ]
  },
  {
   "cell_type": "code",
   "execution_count": 7,
   "id": "d4b1da4a",
   "metadata": {},
   "outputs": [
    {
     "name": "stdout",
     "output_type": "stream",
     "text": [
      "9896\n"
     ]
    }
   ],
   "source": [
    "G = nx.DiGraph()\n",
    "\n",
    "for repo_url in df['seed_repo_url'].unique():\n",
    "    G.add_node(repo_url, level=1)\n",
    "    \n",
    "for repo_url in df['package_repo_url'].unique():\n",
    "    if repo_url not in G.nodes:\n",
    "        G.add_node(repo_url, level=2)\n",
    "        \n",
    "for _, row in df.iterrows():\n",
    "    G.add_edge(\n",
    "        row['seed_repo_url'],\n",
    "        row['package_repo_url'],\n",
    "        relation=row['package_source']\n",
    "    )\n",
    "    \n",
    "total_edges = G.number_of_edges()\n",
    "print(total_edges)\n",
    "\n",
    "global_weight = 0\n",
    "for u, v in G.edges:\n",
    "    G[u][v]['weight'] = global_weight\n",
    "    \n",
    "graph_json = nx.node_link_data(G)\n",
    "with open(LOCAL_JSON_PATH, \"w\") as f:\n",
    "    json.dump(graph_json, f, indent=2)"
   ]
  }
 ],
 "metadata": {
  "kernelspec": {
   "display_name": "Python 3 (ipykernel)",
   "language": "python",
   "name": "python3"
  },
  "language_info": {
   "codemirror_mode": {
    "name": "ipython",
    "version": 3
   },
   "file_extension": ".py",
   "mimetype": "text/x-python",
   "name": "python",
   "nbconvert_exporter": "python",
   "pygments_lexer": "ipython3",
   "version": "3.11.5"
  }
 },
 "nbformat": 4,
 "nbformat_minor": 5
}
