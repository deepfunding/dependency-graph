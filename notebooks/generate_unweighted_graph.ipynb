{
 "cells": [
  {
   "cell_type": "code",
   "execution_count": 1,
   "id": "81efdd86-cef4-4515-9188-247bd219552b",
   "metadata": {},
   "outputs": [],
   "source": [
    "import json\n",
    "import networkx as nx\n",
    "import os\n",
    "import pandas as pd"
   ]
  },
  {
   "cell_type": "markdown",
   "id": "b17c6b51",
   "metadata": {},
   "source": [
    "# Settings"
   ]
  },
  {
   "cell_type": "code",
   "execution_count": 2,
   "id": "7a2e8fc3",
   "metadata": {},
   "outputs": [],
   "source": [
    "REFRESH_DATA = False\n",
    "LOCAL_CSV_PATH = '../graph/unweighted_graph.csv'\n",
    "LOCAL_JSON_PATH = '../graph/unweighted_graph.json'"
   ]
  },
  {
   "cell_type": "code",
   "execution_count": 3,
   "id": "6707dd57",
   "metadata": {},
   "outputs": [],
   "source": [
    "CONSENSUS = [\n",
    "    'prysmaticlabs/prysm',\n",
    "    'sigp/lighthouse',\n",
    "    'consensys/teku',\n",
    "    'status-im/nimbus-eth2',\n",
    "    'chainsafe/lodestar',\n",
    "    'grandinetech/grandine'\n",
    "]\n",
    "EXECUTION = [\n",
    "    'ethereum/go-ethereum',\n",
    "    'nethermindeth/nethermind',\n",
    "    'hyperledger/besu',\n",
    "    'erigontech/erigon',\n",
    "    'paradigmxyz/reth'\n",
    "]\n",
    "OTHER = [\n",
    "    'ethereum/py-evm',\n",
    "    'eth-infinitism/account-abstraction',\n",
    "    'safe-global/safe-smart-account',\n",
    "    'a16z/helios',\n",
    "    'ethereumjs/ethereumjs-monorepo'    \n",
    "]\n",
    "DEV_GUILD = [\n",
    "    'ethereum/web3.py',\n",
    "    'ethers-io/ethers.js', # new\n",
    "    'hyperledger-web3j/web3j', # new\n",
    "    'alloy-rs/alloy', # new\n",
    "    'nethereum/nethereum', # new\n",
    "    'wevm/viem', # new\n",
    "#    'web3/web3.js', # removed    \n",
    "    \n",
    "    'nomicfoundation/hardhat', # new\n",
    "    'foundry-rs/foundry', # new\n",
    "    'ethereum/remix-project',\n",
    "    'apeworx/ape', # new\n",
    "    'vyperlang/titanoboa', # new\n",
    "    'ethereum-lists/chains', # new\n",
    "    \n",
    "    'ethereum/solidity', # includes yul\n",
    "    'vyperlang/vyper',\n",
    "    'ethereum/fe', # new\n",
    "    \n",
    "    'ethereum/sourcify', # new\n",
    "    \n",
    "    'openzeppelin/openzeppelin-contracts', # new\n",
    "    'scaffold-eth/scaffold-eth-2' # new\n",
    "]\n",
    "SEED_REPOS = CONSENSUS + EXECUTION + OTHER + DEV_GUILD\n",
    "PACKAGE_SERVERS = ['NPM', 'RUST', 'GO', 'PIP']"
   ]
  },
  {
   "cell_type": "markdown",
   "id": "1cabde46",
   "metadata": {},
   "source": [
    "# Get SBOMs for repos we care about\n",
    "\n",
    "- Subscribe to the OSO Production dataset on BigQuery (see docs [here](https://docs.opensource.observer/docs/get-started/bigquery))\n",
    "- Enter the following query into your [console](https://console.cloud.google.com/bigquery) to get a fresh copy of the graph\n",
    "- Save it as a CSV file to `../graph/unweighted_graph.csv`"
   ]
  },
  {
   "cell_type": "code",
   "execution_count": 4,
   "id": "34076d84-9bda-406f-abed-f7ed07608027",
   "metadata": {},
   "outputs": [
    {
     "name": "stdout",
     "output_type": "stream",
     "text": [
      "\n",
      "  -- COPY THIS INTO YOUR BIGQUERY CONSOLE\n",
      "  \n",
      "  select distinct\n",
      "    sboms.from_artifact_namespace as seed_repo_owner,\n",
      "    sboms.from_artifact_name as seed_repo_name,\n",
      "    sboms.to_package_artifact_name as package_name,\n",
      "    package_owners.package_owner_artifact_namespace as package_repo_owner,\n",
      "    package_owners.package_owner_artifact_name as package_repo_name,\n",
      "    sboms.to_package_artifact_source as package_source\n",
      "  from `oso_production.sboms_v0` sboms\n",
      "  join `oso_production.package_owners_v0` package_owners\n",
      "    on\n",
      "      sboms.to_package_artifact_name = package_owners.package_artifact_name\n",
      "      and sboms.to_package_artifact_source = package_owners.package_artifact_source\n",
      "  where\n",
      "    sboms.to_package_artifact_source in ('NPM','RUST','GO','PIP')\n",
      "    and package_owners.package_owner_artifact_namespace is not null\n",
      "    and concat(sboms.from_artifact_namespace, '/', sboms.from_artifact_name)\n",
      "      in ('prysmaticlabs/prysm','sigp/lighthouse','consensys/teku','status-im/nimbus-eth2','chainsafe/lodestar','grandinetech/grandine','ethereum/go-ethereum','nethermindeth/nethermind','hyperledger/besu','erigontech/erigon','paradigmxyz/reth','ethereum/py-evm','eth-infinitism/account-abstraction','safe-global/safe-smart-account','a16z/helios','ethereumjs/ethereumjs-monorepo','ethereum/web3.py','ethers-io/ethers.js','hyperledger-web3j/web3j','alloy-rs/alloy','nethereum/nethereum','wevm/viem','nomicfoundation/hardhat','foundry-rs/foundry','ethereum/remix-project','apeworx/ape','vyperlang/titanoboa','ethereum-lists/chains','ethereum/solidity','vyperlang/vyper','ethereum/fe','ethereum/sourcify','openzeppelin/openzeppelin-contracts','scaffold-eth/scaffold-eth-2')\n",
      "\n"
     ]
    }
   ],
   "source": [
    "def stringify_array(arr):\n",
    "    return \"'\" + \"','\".join(arr) + \"'\"\n",
    "\n",
    "query = f\"\"\"\n",
    "  -- COPY THIS INTO YOUR BIGQUERY CONSOLE\n",
    "  \n",
    "  select distinct\n",
    "    sboms.from_artifact_namespace as seed_repo_owner,\n",
    "    sboms.from_artifact_name as seed_repo_name,\n",
    "    sboms.to_package_artifact_name as package_name,\n",
    "    package_owners.package_owner_artifact_namespace as package_repo_owner,\n",
    "    package_owners.package_owner_artifact_name as package_repo_name,\n",
    "    sboms.to_package_artifact_source as package_source\n",
    "  from `oso_production.sboms_v0` sboms\n",
    "  join `oso_production.package_owners_v0` package_owners\n",
    "    on\n",
    "      sboms.to_package_artifact_name = package_owners.package_artifact_name\n",
    "      and sboms.to_package_artifact_source = package_owners.package_artifact_source\n",
    "  where\n",
    "    sboms.to_package_artifact_source in ({stringify_array(PACKAGE_SERVERS)})\n",
    "    and package_owners.package_owner_artifact_namespace is not null\n",
    "    and concat(sboms.from_artifact_namespace, '/', sboms.from_artifact_name)\n",
    "      in ({stringify_array(SEED_REPOS)})\n",
    "\"\"\"\n",
    "\n",
    "if REFRESH_DATA:\n",
    "\n",
    "    from google.cloud import bigquery\n",
    "\n",
    "    # replace with your path to credentials\n",
    "    os.environ['GOOGLE_APPLICATION_CREDENTIALS'] = '../oso_gcp_credentials.json'\n",
    "\n",
    "    # replace with your project name\n",
    "    client = bigquery.Client(project='opensource-observer')\n",
    "    \n",
    "    # execute the query and save it\n",
    "    results = client.query(query)\n",
    "    df = results.to_dataframe()\n",
    "    df.to_csv(LOCAL_CSV_PATH)\n",
    "    print(\"Query saved to local CSV file.\")\n",
    "\n",
    "else:    \n",
    "    print(query)"
   ]
  },
  {
   "cell_type": "markdown",
   "id": "2e75f732",
   "metadata": {},
   "source": [
    "# Load the graph as a CSV"
   ]
  },
  {
   "cell_type": "code",
   "execution_count": 5,
   "id": "25a9716a",
   "metadata": {},
   "outputs": [
    {
     "data": {
      "text/html": [
       "<div>\n",
       "<style scoped>\n",
       "    .dataframe tbody tr th:only-of-type {\n",
       "        vertical-align: middle;\n",
       "    }\n",
       "\n",
       "    .dataframe tbody tr th {\n",
       "        vertical-align: top;\n",
       "    }\n",
       "\n",
       "    .dataframe thead th {\n",
       "        text-align: right;\n",
       "    }\n",
       "</style>\n",
       "<table border=\"1\" class=\"dataframe\">\n",
       "  <thead>\n",
       "    <tr style=\"text-align: right;\">\n",
       "      <th></th>\n",
       "      <th>Unnamed: 0</th>\n",
       "      <th>seed_repo_owner</th>\n",
       "      <th>seed_repo_name</th>\n",
       "      <th>package_name</th>\n",
       "      <th>package_repo_owner</th>\n",
       "      <th>package_repo_name</th>\n",
       "      <th>package_source</th>\n",
       "      <th>seed_repo_url</th>\n",
       "      <th>package_repo_url</th>\n",
       "    </tr>\n",
       "  </thead>\n",
       "  <tbody>\n",
       "    <tr>\n",
       "      <th>19568</th>\n",
       "      <td>19568</td>\n",
       "      <td>openzeppelin</td>\n",
       "      <td>openzeppelin-contracts</td>\n",
       "      <td>@nomicfoundation/edr-win32-x64-msvc</td>\n",
       "      <td>nomicfoundation</td>\n",
       "      <td>edr</td>\n",
       "      <td>NPM</td>\n",
       "      <td>https://github.com/openzeppelin/openzeppelin-c...</td>\n",
       "      <td>https://github.com/nomicfoundation/edr</td>\n",
       "    </tr>\n",
       "    <tr>\n",
       "      <th>19569</th>\n",
       "      <td>19569</td>\n",
       "      <td>openzeppelin</td>\n",
       "      <td>openzeppelin-contracts</td>\n",
       "      <td>got</td>\n",
       "      <td>sindresorhus</td>\n",
       "      <td>got</td>\n",
       "      <td>NPM</td>\n",
       "      <td>https://github.com/openzeppelin/openzeppelin-c...</td>\n",
       "      <td>https://github.com/sindresorhus/got</td>\n",
       "    </tr>\n",
       "    <tr>\n",
       "      <th>19570</th>\n",
       "      <td>19570</td>\n",
       "      <td>openzeppelin</td>\n",
       "      <td>openzeppelin-contracts</td>\n",
       "      <td>chai</td>\n",
       "      <td>chaijs</td>\n",
       "      <td>chai</td>\n",
       "      <td>NPM</td>\n",
       "      <td>https://github.com/openzeppelin/openzeppelin-c...</td>\n",
       "      <td>https://github.com/chaijs/chai</td>\n",
       "    </tr>\n",
       "    <tr>\n",
       "      <th>19571</th>\n",
       "      <td>19571</td>\n",
       "      <td>openzeppelin</td>\n",
       "      <td>openzeppelin-contracts</td>\n",
       "      <td>eslint-visitor-keys</td>\n",
       "      <td>eslint</td>\n",
       "      <td>js</td>\n",
       "      <td>NPM</td>\n",
       "      <td>https://github.com/openzeppelin/openzeppelin-c...</td>\n",
       "      <td>https://github.com/eslint/js</td>\n",
       "    </tr>\n",
       "    <tr>\n",
       "      <th>19572</th>\n",
       "      <td>19572</td>\n",
       "      <td>openzeppelin</td>\n",
       "      <td>openzeppelin-contracts</td>\n",
       "      <td>colorette</td>\n",
       "      <td>jorgebucaran</td>\n",
       "      <td>colorette</td>\n",
       "      <td>NPM</td>\n",
       "      <td>https://github.com/openzeppelin/openzeppelin-c...</td>\n",
       "      <td>https://github.com/jorgebucaran/colorette</td>\n",
       "    </tr>\n",
       "  </tbody>\n",
       "</table>\n",
       "</div>"
      ],
      "text/plain": [
       "       Unnamed: 0 seed_repo_owner          seed_repo_name  \\\n",
       "19568       19568    openzeppelin  openzeppelin-contracts   \n",
       "19569       19569    openzeppelin  openzeppelin-contracts   \n",
       "19570       19570    openzeppelin  openzeppelin-contracts   \n",
       "19571       19571    openzeppelin  openzeppelin-contracts   \n",
       "19572       19572    openzeppelin  openzeppelin-contracts   \n",
       "\n",
       "                              package_name package_repo_owner  \\\n",
       "19568  @nomicfoundation/edr-win32-x64-msvc    nomicfoundation   \n",
       "19569                                  got       sindresorhus   \n",
       "19570                                 chai             chaijs   \n",
       "19571                  eslint-visitor-keys             eslint   \n",
       "19572                            colorette       jorgebucaran   \n",
       "\n",
       "      package_repo_name package_source  \\\n",
       "19568               edr            NPM   \n",
       "19569               got            NPM   \n",
       "19570              chai            NPM   \n",
       "19571                js            NPM   \n",
       "19572         colorette            NPM   \n",
       "\n",
       "                                           seed_repo_url  \\\n",
       "19568  https://github.com/openzeppelin/openzeppelin-c...   \n",
       "19569  https://github.com/openzeppelin/openzeppelin-c...   \n",
       "19570  https://github.com/openzeppelin/openzeppelin-c...   \n",
       "19571  https://github.com/openzeppelin/openzeppelin-c...   \n",
       "19572  https://github.com/openzeppelin/openzeppelin-c...   \n",
       "\n",
       "                                package_repo_url  \n",
       "19568     https://github.com/nomicfoundation/edr  \n",
       "19569        https://github.com/sindresorhus/got  \n",
       "19570             https://github.com/chaijs/chai  \n",
       "19571               https://github.com/eslint/js  \n",
       "19572  https://github.com/jorgebucaran/colorette  "
      ]
     },
     "execution_count": 5,
     "metadata": {},
     "output_type": "execute_result"
    }
   ],
   "source": [
    "df = pd.read_csv(LOCAL_CSV_PATH)\n",
    "\n",
    "gh = 'https://github.com/'\n",
    "df['seed_repo_url'] = df.apply(lambda x: f\"{gh}{x['seed_repo_owner']}/{x['seed_repo_name']}\", axis=1)\n",
    "df['package_repo_url'] = df.apply(lambda x: f\"{gh}{x['package_repo_owner']}/{x['package_repo_name']}\", axis=1)\n",
    "\n",
    "df.tail()"
   ]
  },
  {
   "cell_type": "code",
   "execution_count": 6,
   "id": "549e9bc9",
   "metadata": {},
   "outputs": [
    {
     "data": {
      "text/plain": [
       "package_source\n",
       "GO       386\n",
       "NPM     5554\n",
       "PIP      153\n",
       "RUST    1255\n",
       "Name: package_name, dtype: int64"
      ]
     },
     "execution_count": 6,
     "metadata": {},
     "output_type": "execute_result"
    }
   ],
   "source": [
    "df.groupby('package_source')['package_name'].nunique()"
   ]
  },
  {
   "cell_type": "code",
   "execution_count": 7,
   "id": "56ec97dc",
   "metadata": {},
   "outputs": [
    {
     "name": "stdout",
     "output_type": "stream",
     "text": [
      "\n",
      "### Most Popular NPM Packages ###\n",
      "['babel', 'definitelytyped', 'ethers.js', 'lodash', 'esbuild', 'lerna', 'ethereumjs-monorepo', 'cspell-dicts', 'cssnano', 'web3.js', 'micromark', 'webassemblyjs', 'rollup', 'jest', 'typescript-eslint', 'solidity-analyzer', 'sentry-javascript', 'proxy-agents', 'changesets', 'smithy-typescript', 'edr', 'change-case', 'nx', 'next.js', 'cspell', 'storybook', 'conventional-changelog', 'stablelib', 'hardhat', 'aws-sdk-js-v3', 'protobuf.js', 'walletconnect-utils', 'bases', 'primitives', 'istanbuljs', 'vitest', 'react', 'nodelib', 'node-rs', 'watcher', 'emotion', 'svgr', 'swc', 'biome', 'opentelemetry-js', 'docusaurus', 'algoliasearch-client-javascript', 'it', 'graphql-tools', 'js', 'core', 'acorn', 'undici', 'js-libp2p', 'cliui', 'cli', 'node-source-map-support', 'shiki', 'eslint', 'once', 'inquirer.js', 'vercel', 'sigstore-js', 'webdriverio', 'eslint-plugin-import', 'js-yaml', 'find-up', 'ms', 'punycode.js', 'source-map', 'forge', 'ieee754', 'plugins', 'snappy', 'mdx', 'node-which', 'p-locate', 'ws', 'isexe', 'debug', 'node-semver', 'shebang-command', 'node-cross-spawn', 'path-exists', 'locate-path', 'p-limit', 'shebang-regex', 'path-key']\n",
      "\n",
      "### Most Popular RUST Packages ###\n",
      "['windows-rs', 'alloy', 'rust-libp2p', 'wasm-bindgen', 'futures-rs', 'icu4x', 'formats', 'traits', 'utils', 'parity-common', 'tracing', 'anstyle', 'clap', 'hashes', 'crossbeam', 'core', 'rust-url', 'toml', 'tokio', 'gitoxide', 'winapi-rs', 'parking_lot', 'regex', 'rand', 'elliptic-curves', 'tower', 'smithy-rs', 'signatures', 'rust-phf', 'darling', 'thiserror', 'ciborium', 'libsecp256k1', 'quinn', 'plotters', 'revm', 'algebra', 'time', 'serde', 'jemallocator', 'core-foundation-rs', 'rayon', 'data-encoding', 'jsonrpsee', 'rust-security-framework', 'strum', 'parity-scale-codec', 'ferrilab', 'curve25519-dalek', 'http-body', 'uint', 'foreign-types', 'dirs', 'boa', 'derive_more', 'signal-hook', 'universal-hashes', 'criterion.rs', 'op-alloy', 'zerocopy', 'pin-project', 'rust-openssl', 'iana-time-zone', 'password-hashes', 'coins', 'arbitrary', 'num-bigint', 'axum', 'rlp', 'ethers-rs', 'vte', 'scale-info', 'zstd-rs', 'http', 'serde_with', 'predicates-rs', 'keccak-asm', 'diesel', 'asn1-rs', 'json']\n",
      "\n",
      "### Most Popular GO Packages ###\n",
      "['aws-sdk-go-v2', 'opentelemetry-go', 'errors', 'protobuf', 'xxhash', 'uuid', 'golang-lru', 'yaml', 'cors', 'golang-set', 'procfs', 'go-colorable', 'perks', 'go-systemd', 'uniseg', 'flock', 'jwt', 'bitset', 'gnark-crypto', 'go-md2man', 'goupnp', 'fastssz', 'cli', 'cgroups', 'bloomfilter', 'grpc-go', 'fsnotify', 'uint256', 'cpuid', 'sourcemap', 'mapstructure', 'pprof', 'client_model']\n",
      "\n",
      "### Most Popular PIP Packages ###\n",
      "['ipython', 'sphinx', 'pytest', 'eth-typing', 'eth-abi', 'packaging', 'eth-account', 'requests', 'typing_extensions', 'eth-utils', 'hypothesis', 'rich', 'pytest-cov', 'sphinx_rtd_theme', 'nest_asyncio']\n"
     ]
    }
   ],
   "source": [
    "for pkg in PACKAGE_SERVERS:\n",
    "    print(f\"\\n### Most Popular {pkg} Packages ###\")\n",
    "    pkg_lst = df[(df['package_source']==pkg) & (df['package_repo_owner'] != '')]['package_repo_name'].value_counts()\n",
    "    nth = int(len(pkg_lst) * (0.025 if pkg == 'NPM' else 0.1))\n",
    "    pkg_lst_top = list(pkg_lst.head(nth).index)\n",
    "    print(pkg_lst_top)"
   ]
  },
  {
   "cell_type": "code",
   "execution_count": 8,
   "id": "f23c6eba",
   "metadata": {},
   "outputs": [
    {
     "data": {
      "text/plain": [
       "1996"
      ]
     },
     "execution_count": 8,
     "metadata": {},
     "output_type": "execute_result"
    }
   ],
   "source": [
    "owners = list(df['package_repo_owner'].unique())\n",
    "len(owners)"
   ]
  },
  {
   "cell_type": "markdown",
   "id": "b488e9fe",
   "metadata": {},
   "source": [
    "# Create a network graph"
   ]
  },
  {
   "cell_type": "code",
   "execution_count": 9,
   "id": "d4b1da4a",
   "metadata": {},
   "outputs": [
    {
     "name": "stdout",
     "output_type": "stream",
     "text": [
      "14308\n"
     ]
    }
   ],
   "source": [
    "G = nx.DiGraph()\n",
    "\n",
    "for seed_repo in SEED_REPOS:\n",
    "    G.add_node(f\"{gh}{seed_repo}\", level=1)\n",
    "    \n",
    "for repo_url in df['package_repo_url'].unique():\n",
    "    if repo_url not in G.nodes:\n",
    "        G.add_node(repo_url, level=2)\n",
    "        \n",
    "for _, row in df.iterrows():\n",
    "    G.add_edge(\n",
    "        row['seed_repo_url'],\n",
    "        row['package_repo_url'],\n",
    "        relation=row['package_source']\n",
    "    )\n",
    "    \n",
    "total_edges = G.number_of_edges()\n",
    "print(total_edges)\n",
    "\n",
    "global_weight = 0\n",
    "for u, v in G.edges:\n",
    "    G[u][v]['weight'] = global_weight\n",
    "    \n",
    "graph_json = nx.node_link_data(G)\n",
    "with open(LOCAL_JSON_PATH, \"w\") as f:\n",
    "    json.dump(graph_json, f, indent=2)"
   ]
  }
 ],
 "metadata": {
  "kernelspec": {
   "display_name": "Python 3 (ipykernel)",
   "language": "python",
   "name": "python3"
  },
  "language_info": {
   "codemirror_mode": {
    "name": "ipython",
    "version": 3
   },
   "file_extension": ".py",
   "mimetype": "text/x-python",
   "name": "python",
   "nbconvert_exporter": "python",
   "pygments_lexer": "ipython3",
   "version": "3.11.5"
  }
 },
 "nbformat": 4,
 "nbformat_minor": 5
}
