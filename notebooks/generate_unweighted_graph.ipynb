{
 "cells": [
  {
   "cell_type": "code",
   "execution_count": 1,
   "id": "81efdd86-cef4-4515-9188-247bd219552b",
   "metadata": {},
   "outputs": [],
   "source": [
    "import json\n",
    "import networkx as nx\n",
    "import os\n",
    "import pandas as pd"
   ]
  },
  {
   "cell_type": "markdown",
   "id": "b17c6b51",
   "metadata": {},
   "source": [
    "# Settings"
   ]
  },
  {
   "cell_type": "code",
   "execution_count": 2,
   "id": "7a2e8fc3",
   "metadata": {},
   "outputs": [],
   "source": [
    "REFRESH_DATA = True\n",
    "LOCAL_CSV_PATH = '../graph/unweighted_graph.csv'\n",
    "LOCAL_JSON_PATH = '../graph/unweighted_graph.json'"
   ]
  },
  {
   "cell_type": "code",
   "execution_count": 3,
   "id": "6707dd57",
   "metadata": {},
   "outputs": [],
   "source": [
    "CONSENSUS = [\n",
    "    'prysmaticlabs/prysm',\n",
    "    'sigp/lighthouse',\n",
    "    'consensys/teku',\n",
    "    'status-im/nimbus-eth2',\n",
    "    'chainsafe/lodestar',\n",
    "    'grandinetech/grandine'\n",
    "]\n",
    "EXECUTION = [\n",
    "    'ethereum/go-ethereum',\n",
    "    'nethermindeth/nethermind',\n",
    "    'hyperledger/besu',\n",
    "    'erigontech/erigon',\n",
    "    'paradigmxyz/reth'\n",
    "]\n",
    "OTHER = [\n",
    "    'ethereum/py-evm',\n",
    "    'eth-infinitism/account-abstraction',\n",
    "    'safe-global/safe-smart-account',\n",
    "    'a16z/helios',\n",
    "    'ethereumjs/ethereumjs-monorepo'    \n",
    "]\n",
    "DEV_GUILD = [\n",
    "    'ethereum/web3.py',\n",
    "    'ethers-io/ethers.js', # new\n",
    "    'hyperledger-web3j/web3j', # new\n",
    "    'alloy-rs/alloy', # new\n",
    "    'nethereum/nethereum', # new\n",
    "    'wevm/viem', # new\n",
    "#    'web3/web3.js', # removed    \n",
    "    \n",
    "    'nomicfoundation/hardhat', # new\n",
    "    'foundry-rs/foundry', # new\n",
    "    'ethereum/remix-project',\n",
    "    'apeworx/ape', # new\n",
    "    'vyperlang/titanoboa', # new\n",
    "    'ethereum-lists/chains', # new\n",
    "    \n",
    "    'ethereum/solidity', # includes yul\n",
    "    'vyperlang/vyper',\n",
    "    'ethereum/fe', # new\n",
    "    \n",
    "    'ethereum/sourcify', # new\n",
    "    \n",
    "    'openzeppelin/openzeppelin-contracts', # new\n",
    "    'scaffold-eth/scaffold-eth-2' # new\n",
    "]\n",
    "SEED_REPOS = CONSENSUS + EXECUTION + OTHER + DEV_GUILD\n",
    "PACKAGE_SERVERS = ['NPM', 'CARGO', 'GOLANG', 'PYPI']"
   ]
  },
  {
   "cell_type": "markdown",
   "id": "1cabde46",
   "metadata": {},
   "source": [
    "# Get SBOMs for repos we care about\n",
    "\n",
    "- Subscribe to the OSO Production dataset on BigQuery (see docs [here](https://docs.opensource.observer/docs/get-started/bigquery))\n",
    "- Enter the following query into your [console](https://console.cloud.google.com/bigquery) to get a fresh copy of the graph\n",
    "- Save it as a CSV file to `../graph/unweighted_graph.csv`"
   ]
  },
  {
   "cell_type": "code",
   "execution_count": null,
   "id": "34076d84-9bda-406f-abed-f7ed07608027",
   "metadata": {},
   "outputs": [
    {
     "name": "stdout",
     "output_type": "stream",
     "text": [
      "Query saved to local CSV file.\n"
     ]
    }
   ],
   "source": [
    "def stringify_array(arr):\n",
    "    return \"'\" + \"','\".join(arr) + \"'\"\n",
    "\n",
    "query = f\"\"\"\n",
    "  select distinct\n",
    "    sboms.from_artifact_namespace as seed_repo_owner,\n",
    "    sboms.from_artifact_name as seed_repo_name,\n",
    "    sboms.to_package_artifact_name as package_name,\n",
    "    package_owners.package_owner_artifact_namespace as package_repo_owner,\n",
    "    package_owners.package_owner_artifact_name as package_repo_name,\n",
    "    sboms.to_package_artifact_source as package_source\n",
    "  from `sboms_v0` sboms\n",
    "  join `package_owners_v0` package_owners\n",
    "    on\n",
    "      sboms.to_package_artifact_name = package_owners.package_artifact_name\n",
    "      and sboms.to_package_artifact_source = package_owners.package_artifact_source\n",
    "  where\n",
    "    sboms.to_package_artifact_source in ({stringify_array(PACKAGE_SERVERS)})\n",
    "    and package_owners.package_owner_artifact_namespace is not null\n",
    "    and concat(sboms.from_artifact_namespace, '/', sboms.from_artifact_name)\n",
    "      in ({stringify_array(SEED_REPOS)})\n",
    "\"\"\"\n",
    "\n",
    "if REFRESH_DATA:\n",
    "\n",
    "    from pyoso import Client\n",
    "\n",
    "    # replace with your project name\n",
    "    client = Client()\n",
    "    \n",
    "    # execute the query and save it\n",
    "    results = client.query(query)\n",
    "    df = pd.DataFrame(results).convert_dtypes()\n",
    "    df.to_csv(LOCAL_CSV_PATH)\n",
    "    print(\"Query saved to local CSV file.\")\n",
    "\n",
    "else:    \n",
    "    print(query)"
   ]
  },
  {
   "cell_type": "markdown",
   "id": "2e75f732",
   "metadata": {},
   "source": [
    "# Load the graph as a CSV"
   ]
  },
  {
   "cell_type": "code",
   "execution_count": 7,
   "id": "25a9716a",
   "metadata": {},
   "outputs": [
    {
     "data": {
      "text/html": [
       "<div>\n",
       "<style scoped>\n",
       "    .dataframe tbody tr th:only-of-type {\n",
       "        vertical-align: middle;\n",
       "    }\n",
       "\n",
       "    .dataframe tbody tr th {\n",
       "        vertical-align: top;\n",
       "    }\n",
       "\n",
       "    .dataframe thead th {\n",
       "        text-align: right;\n",
       "    }\n",
       "</style>\n",
       "<table border=\"1\" class=\"dataframe\">\n",
       "  <thead>\n",
       "    <tr style=\"text-align: right;\">\n",
       "      <th></th>\n",
       "      <th>seed_repo_owner</th>\n",
       "      <th>seed_repo_name</th>\n",
       "      <th>package_name</th>\n",
       "      <th>package_repo_owner</th>\n",
       "      <th>package_repo_name</th>\n",
       "      <th>package_source</th>\n",
       "      <th>seed_repo_url</th>\n",
       "      <th>package_repo_url</th>\n",
       "    </tr>\n",
       "  </thead>\n",
       "  <tbody>\n",
       "    <tr>\n",
       "      <th>20985</th>\n",
       "      <td>nomicfoundation</td>\n",
       "      <td>hardhat</td>\n",
       "      <td>constant-case</td>\n",
       "      <td>blakeembrey</td>\n",
       "      <td>change-case</td>\n",
       "      <td>NPM</td>\n",
       "      <td>https://github.com/nomicfoundation/hardhat</td>\n",
       "      <td>https://github.com/blakeembrey/change-case</td>\n",
       "    </tr>\n",
       "    <tr>\n",
       "      <th>20986</th>\n",
       "      <td>nomicfoundation</td>\n",
       "      <td>hardhat</td>\n",
       "      <td>loader-utils</td>\n",
       "      <td>webpack</td>\n",
       "      <td>loader-utils</td>\n",
       "      <td>NPM</td>\n",
       "      <td>https://github.com/nomicfoundation/hardhat</td>\n",
       "      <td>https://github.com/webpack/loader-utils</td>\n",
       "    </tr>\n",
       "    <tr>\n",
       "      <th>20987</th>\n",
       "      <td>nomicfoundation</td>\n",
       "      <td>hardhat</td>\n",
       "      <td>web3-core</td>\n",
       "      <td>chainsafe</td>\n",
       "      <td>web3.js</td>\n",
       "      <td>NPM</td>\n",
       "      <td>https://github.com/nomicfoundation/hardhat</td>\n",
       "      <td>https://github.com/chainsafe/web3.js</td>\n",
       "    </tr>\n",
       "    <tr>\n",
       "      <th>20988</th>\n",
       "      <td>nomicfoundation</td>\n",
       "      <td>hardhat</td>\n",
       "      <td>nice-try</td>\n",
       "      <td>electerious</td>\n",
       "      <td>nice-try</td>\n",
       "      <td>NPM</td>\n",
       "      <td>https://github.com/nomicfoundation/hardhat</td>\n",
       "      <td>https://github.com/electerious/nice-try</td>\n",
       "    </tr>\n",
       "    <tr>\n",
       "      <th>20989</th>\n",
       "      <td>nomicfoundation</td>\n",
       "      <td>hardhat</td>\n",
       "      <td>npm-packlist</td>\n",
       "      <td>npm</td>\n",
       "      <td>npm-packlist</td>\n",
       "      <td>NPM</td>\n",
       "      <td>https://github.com/nomicfoundation/hardhat</td>\n",
       "      <td>https://github.com/npm/npm-packlist</td>\n",
       "    </tr>\n",
       "  </tbody>\n",
       "</table>\n",
       "</div>"
      ],
      "text/plain": [
       "       seed_repo_owner seed_repo_name   package_name package_repo_owner  \\\n",
       "20985  nomicfoundation        hardhat  constant-case        blakeembrey   \n",
       "20986  nomicfoundation        hardhat   loader-utils            webpack   \n",
       "20987  nomicfoundation        hardhat      web3-core          chainsafe   \n",
       "20988  nomicfoundation        hardhat       nice-try        electerious   \n",
       "20989  nomicfoundation        hardhat   npm-packlist                npm   \n",
       "\n",
       "      package_repo_name package_source  \\\n",
       "20985       change-case            NPM   \n",
       "20986      loader-utils            NPM   \n",
       "20987           web3.js            NPM   \n",
       "20988          nice-try            NPM   \n",
       "20989      npm-packlist            NPM   \n",
       "\n",
       "                                    seed_repo_url  \\\n",
       "20985  https://github.com/nomicfoundation/hardhat   \n",
       "20986  https://github.com/nomicfoundation/hardhat   \n",
       "20987  https://github.com/nomicfoundation/hardhat   \n",
       "20988  https://github.com/nomicfoundation/hardhat   \n",
       "20989  https://github.com/nomicfoundation/hardhat   \n",
       "\n",
       "                                 package_repo_url  \n",
       "20985  https://github.com/blakeembrey/change-case  \n",
       "20986     https://github.com/webpack/loader-utils  \n",
       "20987        https://github.com/chainsafe/web3.js  \n",
       "20988     https://github.com/electerious/nice-try  \n",
       "20989         https://github.com/npm/npm-packlist  "
      ]
     },
     "execution_count": 7,
     "metadata": {},
     "output_type": "execute_result"
    }
   ],
   "source": [
    "df = pd.read_csv(LOCAL_CSV_PATH, index_col=0)\n",
    "\n",
    "gh = 'https://github.com/'\n",
    "df['seed_repo_url'] = df.apply(lambda x: f\"{gh}{x['seed_repo_owner']}/{x['seed_repo_name']}\", axis=1)\n",
    "df['package_repo_url'] = df.apply(lambda x: f\"{gh}{x['package_repo_owner']}/{x['package_repo_name']}\", axis=1)\n",
    "\n",
    "df.tail()"
   ]
  },
  {
   "cell_type": "code",
   "execution_count": 8,
   "id": "549e9bc9",
   "metadata": {},
   "outputs": [
    {
     "data": {
      "text/plain": [
       "package_source\n",
       "CARGO     1422\n",
       "GOLANG     417\n",
       "NPM       5705\n",
       "PYPI       173\n",
       "Name: package_name, dtype: int64"
      ]
     },
     "execution_count": 8,
     "metadata": {},
     "output_type": "execute_result"
    }
   ],
   "source": [
    "df.groupby('package_source')['package_name'].nunique()"
   ]
  },
  {
   "cell_type": "code",
   "execution_count": 9,
   "id": "56ec97dc",
   "metadata": {},
   "outputs": [
    {
     "name": "stdout",
     "output_type": "stream",
     "text": [
      "\n",
      "### Most Popular NPM Packages ###\n",
      "['babel', 'definitelytyped', 'ethers.js', 'esbuild', 'lodash', 'lerna', 'ethereumjs-monorepo', 'cspell-dicts', 'cssnano', 'web3.js', 'rollup', 'micromark', 'webassemblyjs', 'jest', 'typescript-eslint', 'solidity-analyzer', 'sentry-javascript', 'proxy-agents', 'changesets', 'smithy-typescript', 'edr', 'change-case', 'nx', 'cspell', 'next.js', 'storybook', 'stablelib', 'conventional-changelog', 'aws-sdk-js-v3', 'hardhat', 'protobuf.js', 'istanbuljs', 'bases', 'walletconnect-utils', 'primitives', 'vitest', 'react', 'node-rs', 'nodelib', 'watcher', 'emotion', 'svgr', 'biome', 'swc', 'opentelemetry-js', 'docusaurus', 'algoliasearch-client-javascript', 'it', 'core', 'js', 'graphql-tools', 'acorn', 'undici', 'js-libp2p', 'cliui', 'cli', 'shiki', 'node-source-map-support', 'eslint', 'sigstore-js', 'vercel', 'inquirer.js', 'once', 'webdriverio', 'source-map', 'js-yaml', 'find-up', 'forge', 'ms', 'eslint-plugin-import', 'punycode.js', 'node-which', 'path-key', 'debug', 'azure-sdk-for-js', 'node-semver', 'snappy', 'path-exists', 'node-cross-spawn', 'shebang-regex', 'locate-path', 'ieee754', 'isexe', 'shebang-command', 'p-locate', 'plugins', 'ws', 'mdx']\n",
      "\n",
      "### Most Popular CARGO Packages ###\n",
      "['icu4x', 'windows-rs', 'alloy', 'rust-libp2p', 'futures-rs', 'wasm-bindgen', 'formats', 'traits', 'anstyle', 'utils', 'tracing', 'parity-common', 'core', 'hashes', 'clap', 'crossbeam', 'toml', 'rust-url', 'tokio', 'jsonrpsee', 'tower', 'regex', 'parking_lot', 'rand', 'winapi-rs', 'gitoxide', 'signatures', 'libsecp256k1', 'algebra', 'revm', 'plotters', 'ciborium', 'elliptic-curves', 'darling', 'core-foundation-rs', 'time', 'smithy-rs', 'quinn', 'op-alloy', 'serde', 'data-encoding', 'strum', 'curve25519-dalek', 'zerocopy', 'thiserror', 'rust-phf', 'derive_more', 'rust-security-framework', 'ferrilab', 'rayon', 'parity-scale-codec', 'jemallocator', 'http-body', 'foreign-types', 'universal-hashes', 'uint', 'pin-project', 'criterion.rs', 'signal-hook', 'eips', 'rlp', 'rust-openssl', 'iana-time-zone', 'asn1-rs', 'rngs', 'axum', 'vte', 'proptest', 'num-bigint', 'boa', 'system-configuration-rs', 'rust-secp256k1', 'dirs', 'gloo', 'serde_with', 'keccak-asm', 'arbitrary', 'tempfile', 'password-hashes', 'bytes', 'async-stream', 'coins', 'trie', 'pest', 'aeads', 'http', 'json']\n",
      "\n",
      "### Most Popular GOLANG Packages ###\n",
      "['aws-sdk-go-v2', 'opentelemetry-go', 'errors', 'xxhash', 'protobuf', 'transport', 'golang-set', 'golang-lru', 'uuid', 'cors', 'yaml', 'go', 'smetrics', 'go-ole', 'missinggo', 'go-kzg-4844', 'gopsutil', 'numcpus', 'go-difflib', 'go-md2man', 'goja', 'snappy', 'gnark-crypto', 'procfs', 'ginkgo', 'jwt', 'gofuzz', 'blst', 'testify', 'go-runewidth', 'pprof', 'flock', 'regexp2']\n",
      "\n",
      "### Most Popular PYPI Packages ###\n",
      "['requests', 'ipython', 'eth-abi', 'eth-typing', 'packaging', 'pytest', 'asttokens', 'typing_extensions', 'eth-account', 'sphinx', 'nest_asyncio', 'watchdog', 'mypy', 'eth-utils', 'pytest-xdist', 'pydantic']\n"
     ]
    }
   ],
   "source": [
    "for pkg in PACKAGE_SERVERS:\n",
    "    print(f\"\\n### Most Popular {pkg} Packages ###\")\n",
    "    pkg_lst = df[(df['package_source']==pkg) & (df['package_repo_owner'] != '')]['package_repo_name'].value_counts()\n",
    "    nth = int(len(pkg_lst) * (0.025 if pkg == 'NPM' else 0.1))\n",
    "    pkg_lst_top = list(pkg_lst.head(nth).index)\n",
    "    print(pkg_lst_top)"
   ]
  },
  {
   "cell_type": "code",
   "execution_count": 10,
   "id": "f23c6eba",
   "metadata": {},
   "outputs": [
    {
     "data": {
      "text/plain": [
       "2053"
      ]
     },
     "execution_count": 10,
     "metadata": {},
     "output_type": "execute_result"
    }
   ],
   "source": [
    "owners = list(df['package_repo_owner'].unique())\n",
    "len(owners)"
   ]
  },
  {
   "cell_type": "markdown",
   "id": "b488e9fe",
   "metadata": {},
   "source": [
    "# Create a network graph"
   ]
  },
  {
   "cell_type": "code",
   "execution_count": 11,
   "id": "d4b1da4a",
   "metadata": {},
   "outputs": [
    {
     "name": "stdout",
     "output_type": "stream",
     "text": [
      "14970\n"
     ]
    },
    {
     "name": "stderr",
     "output_type": "stream",
     "text": [
      "/Users/icaroguerra/Library/Caches/pypoetry/virtualenvs/dependency-graph-PWXgAZ2J-py3.12/lib/python3.12/site-packages/networkx/readwrite/json_graph/node_link.py:142: FutureWarning: \n",
      "The default value will be `edges=\"edges\" in NetworkX 3.6.\n",
      "\n",
      "To make this warning go away, explicitly set the edges kwarg, e.g.:\n",
      "\n",
      "  nx.node_link_data(G, edges=\"links\") to preserve current behavior, or\n",
      "  nx.node_link_data(G, edges=\"edges\") for forward compatibility.\n",
      "  warnings.warn(\n"
     ]
    }
   ],
   "source": [
    "G = nx.DiGraph()\n",
    "\n",
    "for seed_repo in SEED_REPOS:\n",
    "    G.add_node(f\"{gh}{seed_repo}\", level=1)\n",
    "    \n",
    "for repo_url in df['package_repo_url'].unique():\n",
    "    if repo_url not in G.nodes:\n",
    "        G.add_node(repo_url, level=2)\n",
    "        \n",
    "for _, row in df.iterrows():\n",
    "    G.add_edge(\n",
    "        row['seed_repo_url'],\n",
    "        row['package_repo_url'],\n",
    "        relation=row['package_source']\n",
    "    )\n",
    "    \n",
    "total_edges = G.number_of_edges()\n",
    "print(total_edges)\n",
    "\n",
    "global_weight = 0\n",
    "for u, v in G.edges:\n",
    "    G[u][v]['weight'] = global_weight\n",
    "    \n",
    "graph_json = nx.node_link_data(G)\n",
    "with open(LOCAL_JSON_PATH, \"w\") as f:\n",
    "    json.dump(graph_json, f, indent=2)"
   ]
  }
 ],
 "metadata": {
  "kernelspec": {
   "display_name": "dependency-graph-PWXgAZ2J-py3.12",
   "language": "python",
   "name": "python3"
  },
  "language_info": {
   "codemirror_mode": {
    "name": "ipython",
    "version": 3
   },
   "file_extension": ".py",
   "mimetype": "text/x-python",
   "name": "python",
   "nbconvert_exporter": "python",
   "pygments_lexer": "ipython3",
   "version": "3.12.8"
  }
 },
 "nbformat": 4,
 "nbformat_minor": 5
}
