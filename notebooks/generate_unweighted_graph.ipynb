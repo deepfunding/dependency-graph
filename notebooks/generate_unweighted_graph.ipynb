{
 "cells": [
  {
   "cell_type": "code",
   "execution_count": 1,
   "id": "81efdd86-cef4-4515-9188-247bd219552b",
   "metadata": {},
   "outputs": [],
   "source": [
    "import json\n",
    "import networkx as nx\n",
    "import os\n",
    "import pandas as pd"
   ]
  },
  {
   "cell_type": "markdown",
   "id": "b17c6b51",
   "metadata": {},
   "source": [
    "# Settings"
   ]
  },
  {
   "cell_type": "code",
   "execution_count": 2,
   "id": "7a2e8fc3",
   "metadata": {},
   "outputs": [],
   "source": [
    "REFRESH_DATA = True\n",
    "LOCAL_CSV_PATH = '../graph/unweighted_graph.csv'\n",
    "LOCAL_JSON_PATH = '../graph/unweighted_graph.json'"
   ]
  },
  {
   "cell_type": "code",
   "execution_count": 3,
   "id": "6707dd57",
   "metadata": {},
   "outputs": [],
   "source": [
    "CONSENSUS = [\n",
    "    'prysmaticlabs/prysm',\n",
    "    'sigp/lighthouse',\n",
    "    'consensys/teku',\n",
    "    'status-im/nimbus-eth2',\n",
    "    'chainsafe/lodestar',\n",
    "    'grandinetech/grandine'\n",
    "]\n",
    "EXECUTION = [\n",
    "    'ethereum/go-ethereum',\n",
    "    'nethermindeth/nethermind',\n",
    "    'hyperledger/besu',\n",
    "    'erigontech/erigon',\n",
    "    'paradigmxyz/reth'\n",
    "]\n",
    "OTHER = [\n",
    "    'ethereum/py-evm',\n",
    "    'eth-infinitism/account-abstraction',\n",
    "    'safe-global/safe-smart-account',\n",
    "    'a16z/helios',\n",
    "    'ethereumjs/ethereumjs-monorepo'    \n",
    "]\n",
    "DEV_GUILD = [\n",
    "    'ethereum/web3.py',\n",
    "    'ethers-io/ethers.js', # new\n",
    "    'hyperledger-web3j/web3j', # new\n",
    "    'alloy-rs/alloy', # new\n",
    "    'nethereum/nethereum', # new\n",
    "    'wevm/viem', # new\n",
    "#    'web3/web3.js', # removed    \n",
    "    \n",
    "    'nomicfoundation/hardhat', # new\n",
    "    'foundry-rs/foundry', # new\n",
    "    'ethereum/remix-project',\n",
    "    'apeworx/ape', # new\n",
    "    'vyperlang/titanoboa', # new\n",
    "    'ethereum-lists/chains', # new\n",
    "    \n",
    "    'ethereum/solidity', # includes yul\n",
    "    'vyperlang/vyper',\n",
    "    'ethereum/fe', # new\n",
    "    \n",
    "    'ethereum/sourcify', # new\n",
    "    \n",
    "    'openzeppelin/openzeppelin-contracts', # new\n",
    "    'scaffold-eth/scaffold-eth-2' # new\n",
    "]\n",
    "SEED_REPOS = CONSENSUS + EXECUTION + OTHER + DEV_GUILD\n",
    "PACKAGE_SERVERS = ['NPM', 'CARGO', 'GOLANG', 'PYPI']"
   ]
  },
  {
   "cell_type": "markdown",
   "id": "1cabde46",
   "metadata": {},
   "source": [
    "# Get SBOMs for repos we care about\n",
    "\n",
    "- Subscribe to the OSO Production dataset on BigQuery (see docs [here](https://docs.opensource.observer/docs/get-started/bigquery))\n",
    "- Enter the following query into your [console](https://console.cloud.google.com/bigquery) to get a fresh copy of the graph\n",
    "- Save it as a CSV file to `../graph/unweighted_graph.csv`"
   ]
  },
  {
   "cell_type": "code",
   "execution_count": 4,
   "id": "34076d84-9bda-406f-abed-f7ed07608027",
   "metadata": {},
   "outputs": [
    {
     "name": "stdout",
     "output_type": "stream",
     "text": [
      "Query saved to local CSV file.\n"
     ]
    }
   ],
   "source": [
    "def stringify_array(arr):\n",
    "    return \"'\" + \"','\".join(arr) + \"'\"\n",
    "\n",
    "query = f\"\"\"\n",
    "  -- COPY THIS INTO YOUR BIGQUERY CONSOLE\n",
    "  \n",
    "  select distinct\n",
    "    sboms.from_artifact_namespace as seed_repo_owner,\n",
    "    sboms.from_artifact_name as seed_repo_name,\n",
    "    sboms.to_package_artifact_name as package_name,\n",
    "    package_owners.package_owner_artifact_namespace as package_repo_owner,\n",
    "    package_owners.package_owner_artifact_name as package_repo_name,\n",
    "    sboms.to_package_artifact_source as package_source\n",
    "  from `oso_production.sboms_v0` sboms\n",
    "  join `oso_production.package_owners_v0` package_owners\n",
    "    on\n",
    "      sboms.to_package_artifact_name = package_owners.package_artifact_name\n",
    "      and sboms.to_package_artifact_source = package_owners.package_artifact_source\n",
    "  where\n",
    "    sboms.to_package_artifact_source in ({stringify_array(PACKAGE_SERVERS)})\n",
    "    and package_owners.package_owner_artifact_namespace is not null\n",
    "    and concat(sboms.from_artifact_namespace, '/', sboms.from_artifact_name)\n",
    "      in ({stringify_array(SEED_REPOS)})\n",
    "\"\"\"\n",
    "\n",
    "if REFRESH_DATA:\n",
    "\n",
    "    from google.cloud import bigquery\n",
    "\n",
    "    # replace with your path to credentials\n",
    "    os.environ['GOOGLE_APPLICATION_CREDENTIALS'] = '../oso_gcp_credentials.json'\n",
    "\n",
    "    # replace with your project name\n",
    "    client = bigquery.Client(project='opensource-observer')\n",
    "    \n",
    "    # execute the query and save it\n",
    "    results = client.query(query)\n",
    "    df = results.to_dataframe()\n",
    "    df.to_csv(LOCAL_CSV_PATH)\n",
    "    print(\"Query saved to local CSV file.\")\n",
    "\n",
    "else:    \n",
    "    print(query)"
   ]
  },
  {
   "cell_type": "markdown",
   "id": "2e75f732",
   "metadata": {},
   "source": [
    "# Load the graph as a CSV"
   ]
  },
  {
   "cell_type": "code",
   "execution_count": 5,
   "id": "25a9716a",
   "metadata": {},
   "outputs": [
    {
     "data": {
      "text/html": [
       "<div>\n",
       "<style scoped>\n",
       "    .dataframe tbody tr th:only-of-type {\n",
       "        vertical-align: middle;\n",
       "    }\n",
       "\n",
       "    .dataframe tbody tr th {\n",
       "        vertical-align: top;\n",
       "    }\n",
       "\n",
       "    .dataframe thead th {\n",
       "        text-align: right;\n",
       "    }\n",
       "</style>\n",
       "<table border=\"1\" class=\"dataframe\">\n",
       "  <thead>\n",
       "    <tr style=\"text-align: right;\">\n",
       "      <th></th>\n",
       "      <th>Unnamed: 0</th>\n",
       "      <th>seed_repo_owner</th>\n",
       "      <th>seed_repo_name</th>\n",
       "      <th>package_name</th>\n",
       "      <th>package_repo_owner</th>\n",
       "      <th>package_repo_name</th>\n",
       "      <th>package_source</th>\n",
       "      <th>seed_repo_url</th>\n",
       "      <th>package_repo_url</th>\n",
       "    </tr>\n",
       "  </thead>\n",
       "  <tbody>\n",
       "    <tr>\n",
       "      <th>20369</th>\n",
       "      <td>20369</td>\n",
       "      <td>openzeppelin</td>\n",
       "      <td>openzeppelin-contracts</td>\n",
       "      <td>@changesets/errors</td>\n",
       "      <td>changesets</td>\n",
       "      <td>changesets</td>\n",
       "      <td>NPM</td>\n",
       "      <td>https://github.com/openzeppelin/openzeppelin-c...</td>\n",
       "      <td>https://github.com/changesets/changesets</td>\n",
       "    </tr>\n",
       "    <tr>\n",
       "      <th>20370</th>\n",
       "      <td>20370</td>\n",
       "      <td>openzeppelin</td>\n",
       "      <td>openzeppelin-contracts</td>\n",
       "      <td>@jridgewell/trace-mapping</td>\n",
       "      <td>jridgewell</td>\n",
       "      <td>trace-mapping</td>\n",
       "      <td>NPM</td>\n",
       "      <td>https://github.com/openzeppelin/openzeppelin-c...</td>\n",
       "      <td>https://github.com/jridgewell/trace-mapping</td>\n",
       "    </tr>\n",
       "    <tr>\n",
       "      <th>20371</th>\n",
       "      <td>20371</td>\n",
       "      <td>openzeppelin</td>\n",
       "      <td>openzeppelin-contracts</td>\n",
       "      <td>ethjs-util</td>\n",
       "      <td>ethjs</td>\n",
       "      <td>ethjs-util</td>\n",
       "      <td>NPM</td>\n",
       "      <td>https://github.com/openzeppelin/openzeppelin-c...</td>\n",
       "      <td>https://github.com/ethjs/ethjs-util</td>\n",
       "    </tr>\n",
       "    <tr>\n",
       "      <th>20372</th>\n",
       "      <td>20372</td>\n",
       "      <td>openzeppelin</td>\n",
       "      <td>openzeppelin-contracts</td>\n",
       "      <td>path-is-absolute</td>\n",
       "      <td>sindresorhus</td>\n",
       "      <td>path-is-absolute</td>\n",
       "      <td>NPM</td>\n",
       "      <td>https://github.com/openzeppelin/openzeppelin-c...</td>\n",
       "      <td>https://github.com/sindresorhus/path-is-absolute</td>\n",
       "    </tr>\n",
       "    <tr>\n",
       "      <th>20373</th>\n",
       "      <td>20373</td>\n",
       "      <td>openzeppelin</td>\n",
       "      <td>openzeppelin-contracts</td>\n",
       "      <td>enquirer</td>\n",
       "      <td>enquirer</td>\n",
       "      <td>enquirer</td>\n",
       "      <td>NPM</td>\n",
       "      <td>https://github.com/openzeppelin/openzeppelin-c...</td>\n",
       "      <td>https://github.com/enquirer/enquirer</td>\n",
       "    </tr>\n",
       "  </tbody>\n",
       "</table>\n",
       "</div>"
      ],
      "text/plain": [
       "       Unnamed: 0 seed_repo_owner          seed_repo_name  \\\n",
       "20369       20369    openzeppelin  openzeppelin-contracts   \n",
       "20370       20370    openzeppelin  openzeppelin-contracts   \n",
       "20371       20371    openzeppelin  openzeppelin-contracts   \n",
       "20372       20372    openzeppelin  openzeppelin-contracts   \n",
       "20373       20373    openzeppelin  openzeppelin-contracts   \n",
       "\n",
       "                    package_name package_repo_owner package_repo_name  \\\n",
       "20369         @changesets/errors         changesets        changesets   \n",
       "20370  @jridgewell/trace-mapping         jridgewell     trace-mapping   \n",
       "20371                 ethjs-util              ethjs        ethjs-util   \n",
       "20372           path-is-absolute       sindresorhus  path-is-absolute   \n",
       "20373                   enquirer           enquirer          enquirer   \n",
       "\n",
       "      package_source                                      seed_repo_url  \\\n",
       "20369            NPM  https://github.com/openzeppelin/openzeppelin-c...   \n",
       "20370            NPM  https://github.com/openzeppelin/openzeppelin-c...   \n",
       "20371            NPM  https://github.com/openzeppelin/openzeppelin-c...   \n",
       "20372            NPM  https://github.com/openzeppelin/openzeppelin-c...   \n",
       "20373            NPM  https://github.com/openzeppelin/openzeppelin-c...   \n",
       "\n",
       "                                       package_repo_url  \n",
       "20369          https://github.com/changesets/changesets  \n",
       "20370       https://github.com/jridgewell/trace-mapping  \n",
       "20371               https://github.com/ethjs/ethjs-util  \n",
       "20372  https://github.com/sindresorhus/path-is-absolute  \n",
       "20373              https://github.com/enquirer/enquirer  "
      ]
     },
     "execution_count": 5,
     "metadata": {},
     "output_type": "execute_result"
    }
   ],
   "source": [
    "df = pd.read_csv(LOCAL_CSV_PATH, index_col=0)\n",
    "\n",
    "gh = 'https://github.com/'\n",
    "df['seed_repo_url'] = df.apply(lambda x: f\"{gh}{x['seed_repo_owner']}/{x['seed_repo_name']}\", axis=1)\n",
    "df['package_repo_url'] = df.apply(lambda x: f\"{gh}{x['package_repo_owner']}/{x['package_repo_name']}\", axis=1)\n",
    "\n",
    "df.tail()"
   ]
  },
  {
   "cell_type": "code",
   "execution_count": 6,
   "id": "549e9bc9",
   "metadata": {},
   "outputs": [
    {
     "data": {
      "text/plain": [
       "package_source\n",
       "CARGO     1362\n",
       "GOLANG     372\n",
       "NPM       5551\n",
       "PYPI       146\n",
       "Name: package_name, dtype: int64"
      ]
     },
     "execution_count": 6,
     "metadata": {},
     "output_type": "execute_result"
    }
   ],
   "source": [
    "df.groupby('package_source')['package_name'].nunique()"
   ]
  },
  {
   "cell_type": "code",
   "execution_count": 7,
   "id": "56ec97dc",
   "metadata": {},
   "outputs": [
    {
     "name": "stdout",
     "output_type": "stream",
     "text": [
      "\n",
      "### Most Popular NPM Packages ###\n",
      "['babel', 'definitelytyped', 'ethers.js', 'lodash', 'esbuild', 'ethereumjs-monorepo', 'lerna', 'cspell-dicts', 'cssnano', 'micromark', 'web3.js', 'webassemblyjs', 'rollup', 'jest', 'typescript-eslint', 'solidity-analyzer', 'sentry-javascript', 'proxy-agents', 'changesets', 'smithy-typescript', 'edr', 'change-case', 'nx', 'cspell', 'next.js', 'storybook', 'conventional-changelog', 'stablelib', 'aws-sdk-js-v3', 'protobuf.js', 'hardhat', 'bases', 'primitives', 'walletconnect-utils', 'istanbuljs', 'vitest', 'react', 'nodelib', 'emotion', 'watcher', 'node-rs', 'svgr', 'swc', 'biome', 'opentelemetry-js', 'algoliasearch-client-javascript', 'docusaurus', 'core', 'js', 'graphql-tools', 'undici', 'it', 'acorn', 'js-libp2p', 'cli', 'cliui', 'node-source-map-support', 'shiki', 'eslint', 'inquirer.js', 'once', 'vercel', 'sigstore-js', 'webdriverio', 'eslint-plugin-import', 'js-yaml', 'source-map', 'find-up', 'ms', 'punycode.js', 'forge', 'snappy', 'plugins', 'node-semver', 'debug', 'isexe', 'node-which', 'shebang-regex', 'path-key', 'shebang-command', 'p-limit', 'ieee754', 'locate-path', 'mdx', 'p-locate', 'path-exists', 'ws', 'node-cross-spawn']\n",
      "\n",
      "### Most Popular CARGO Packages ###\n",
      "['icu4x', 'windows-rs', 'alloy', 'rust-libp2p', 'futures-rs', 'wasm-bindgen', 'formats', 'traits', 'utils', 'anstyle', 'tracing', 'parity-common', 'core', 'hashes', 'crossbeam', 'clap', 'rust-url', 'toml', 'tokio', 'tower', 'jsonrpsee', 'regex', 'rand', 'parking_lot', 'winapi-rs', 'gitoxide', 'revm', 'libsecp256k1', 'plotters', 'signatures', 'algebra', 'core-foundation-rs', 'darling', 'ciborium', 'elliptic-curves', 'time', 'smithy-rs', 'data-encoding', 'serde', 'quinn', 'zerocopy', 'rust-security-framework', 'thiserror', 'strum', 'parity-scale-codec', 'rust-phf', 'curve25519-dalek', 'rayon', 'ferrilab', 'op-alloy', 'derive_more', 'foreign-types', 'jemallocator', 'http-body', 'universal-hashes', 'rlp', 'rust-openssl', 'pin-project', 'criterion.rs', 'iana-time-zone', 'signal-hook', 'uint', 'asn1-rs', 'axum', 'rngs', 'eips', 'boa', 'proptest', 'dirs', 'serde_with', 'rust-secp256k1', 'gloo', 'num-bigint', 'keccak-asm', 'system-configuration-rs', 'vte', 'pest', 'bytes', 'arbitrary', 'json', 'tempfile', 'trie', 'async-stream', 'aeads', 'http', 'maili', 'coins']\n",
      "\n",
      "### Most Popular GOLANG Packages ###\n",
      "['aws-sdk-go-v2', 'opentelemetry-go', 'xxhash', 'errors', 'protobuf', 'transport', 'uuid', 'cors', 'yaml', 'golang-set', 'golang-lru', 'dcrd', 'stun', 'pprof', 'go-sysconf', 'perks', 'text', 'go-internal', 'go-verkle', 'compress', 'fsnotify', 'go-spew', 'goupnp', 'go-nat-pmp', 'gofuzz', 'go-kzg-4844', 'ginkgo', 'tmplfunc', 'go-colorable', 'cpuid', 'bitset', 'client_model']\n",
      "\n",
      "### Most Popular PYPI Packages ###\n",
      "['sphinx', 'typing_extensions', 'ipython', 'requests', 'pytest-xdist', 'pytest-cov', 'pytest', 'mkdocs-material', 'black', 'packaging', 'asttokens', 'nest_asyncio', 'mypy', 'wheel']\n"
     ]
    }
   ],
   "source": [
    "for pkg in PACKAGE_SERVERS:\n",
    "    print(f\"\\n### Most Popular {pkg} Packages ###\")\n",
    "    pkg_lst = df[(df['package_source']==pkg) & (df['package_repo_owner'] != '')]['package_repo_name'].value_counts()\n",
    "    nth = int(len(pkg_lst) * (0.025 if pkg == 'NPM' else 0.1))\n",
    "    pkg_lst_top = list(pkg_lst.head(nth).index)\n",
    "    print(pkg_lst_top)"
   ]
  },
  {
   "cell_type": "code",
   "execution_count": 8,
   "id": "f23c6eba",
   "metadata": {},
   "outputs": [
    {
     "data": {
      "text/plain": [
       "2024"
      ]
     },
     "execution_count": 8,
     "metadata": {},
     "output_type": "execute_result"
    }
   ],
   "source": [
    "owners = list(df['package_repo_owner'].unique())\n",
    "len(owners)"
   ]
  },
  {
   "cell_type": "markdown",
   "id": "b488e9fe",
   "metadata": {},
   "source": [
    "# Create a network graph"
   ]
  },
  {
   "cell_type": "code",
   "execution_count": 9,
   "id": "d4b1da4a",
   "metadata": {},
   "outputs": [
    {
     "name": "stdout",
     "output_type": "stream",
     "text": [
      "14782\n"
     ]
    }
   ],
   "source": [
    "G = nx.DiGraph()\n",
    "\n",
    "for seed_repo in SEED_REPOS:\n",
    "    G.add_node(f\"{gh}{seed_repo}\", level=1)\n",
    "    \n",
    "for repo_url in df['package_repo_url'].unique():\n",
    "    if repo_url not in G.nodes:\n",
    "        G.add_node(repo_url, level=2)\n",
    "        \n",
    "for _, row in df.iterrows():\n",
    "    G.add_edge(\n",
    "        row['seed_repo_url'],\n",
    "        row['package_repo_url'],\n",
    "        relation=row['package_source']\n",
    "    )\n",
    "    \n",
    "total_edges = G.number_of_edges()\n",
    "print(total_edges)\n",
    "\n",
    "global_weight = 0\n",
    "for u, v in G.edges:\n",
    "    G[u][v]['weight'] = global_weight\n",
    "    \n",
    "graph_json = nx.node_link_data(G)\n",
    "with open(LOCAL_JSON_PATH, \"w\") as f:\n",
    "    json.dump(graph_json, f, indent=2)"
   ]
  }
 ],
 "metadata": {
  "kernelspec": {
   "display_name": "Python 3 (ipykernel)",
   "language": "python",
   "name": "python3"
  },
  "language_info": {
   "codemirror_mode": {
    "name": "ipython",
    "version": 3
   },
   "file_extension": ".py",
   "mimetype": "text/x-python",
   "name": "python",
   "nbconvert_exporter": "python",
   "pygments_lexer": "ipython3",
   "version": "3.11.7"
  }
 },
 "nbformat": 4,
 "nbformat_minor": 5
}
